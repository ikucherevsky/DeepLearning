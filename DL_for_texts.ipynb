{
  "nbformat": 4,
  "nbformat_minor": 0,
  "metadata": {
    "colab": {
      "name": "DL_for_texts.ipynb",
      "provenance": [],
      "collapsed_sections": [],
      "authorship_tag": "ABX9TyNiRPHSGVE/yvD46TqQapCW",
      "include_colab_link": true
    },
    "kernelspec": {
      "name": "python3",
      "display_name": "Python 3"
    },
    "accelerator": "GPU"
  },
  "cells": [
    {
      "cell_type": "markdown",
      "metadata": {
        "id": "view-in-github",
        "colab_type": "text"
      },
      "source": [
        "<a href=\"https://colab.research.google.com/github/ikucherevsky/DeepLearning/blob/master/DL_for_texts.ipynb\" target=\"_parent\"><img src=\"https://colab.research.google.com/assets/colab-badge.svg\" alt=\"Open In Colab\"/></a>"
      ]
    },
    {
      "cell_type": "markdown",
      "metadata": {
        "id": "SLRJYYqavtJP",
        "colab_type": "text"
      },
      "source": [
        "\n",
        "1. Скачать датасет с фразами симпосонов - https://github.com/sujanjoejacob/Text-mining-with-Simpsons-Data\n",
        "2. Обучить word2vec на фразах персонажей\n",
        "3. Визуаилизировать embeddings по самым частотным словам (top 1000)\n",
        "4. Найти самые близкие слова для:\n",
        "  homer - marge + bart\n",
        "  bart - lisa + school\n",
        "  marge - homer + home\n",
        "5.  попробовать построить классификатор bart/lisa с использованием этих эмбеддингов\n"
      ]
    },
    {
      "cell_type": "markdown",
      "metadata": {
        "id": "TibQvg8Hv-su",
        "colab_type": "text"
      },
      "source": [
        "## 1. Скачать датасет с фразами симпосонов - \n",
        "https://github.com/sujanjoejacob/Text-mining-with-Simpsons-Data"
      ]
    },
    {
      "cell_type": "code",
      "metadata": {
        "id": "iaoH-jK9vqR0",
        "colab_type": "code",
        "colab": {
          "base_uri": "https://localhost:8080/",
          "height": 289
        },
        "outputId": "10e6d236-60d6-43c5-e164-b3be01cdf0fe"
      },
      "source": [
        "!wget https://github.com/sujanjoejacob/Text-mining-with-Simpsons-Data/raw/master/simpsons_script_lines.csv.zip"
      ],
      "execution_count": null,
      "outputs": [
        {
          "output_type": "stream",
          "text": [
            "--2020-04-30 16:59:51--  https://github.com/sujanjoejacob/Text-mining-with-Simpsons-Data/raw/master/simpsons_script_lines.csv.zip\n",
            "Resolving github.com (github.com)... 140.82.113.3\n",
            "Connecting to github.com (github.com)|140.82.113.3|:443... connected.\n",
            "HTTP request sent, awaiting response... 302 Found\n",
            "Location: https://raw.githubusercontent.com/sujanjoejacob/Text-mining-with-Simpsons-Data/master/simpsons_script_lines.csv.zip [following]\n",
            "--2020-04-30 16:59:53--  https://raw.githubusercontent.com/sujanjoejacob/Text-mining-with-Simpsons-Data/master/simpsons_script_lines.csv.zip\n",
            "Resolving raw.githubusercontent.com (raw.githubusercontent.com)... 151.101.0.133, 151.101.64.133, 151.101.128.133, ...\n",
            "Connecting to raw.githubusercontent.com (raw.githubusercontent.com)|151.101.0.133|:443... connected.\n",
            "HTTP request sent, awaiting response... 200 OK\n",
            "Length: 9163442 (8.7M) [application/zip]\n",
            "Saving to: ‘simpsons_script_lines.csv.zip’\n",
            "\n",
            "simpsons_script_lin 100%[===================>]   8.74M  18.3MB/s    in 0.5s    \n",
            "\n",
            "2020-04-30 16:59:55 (18.3 MB/s) - ‘simpsons_script_lines.csv.zip’ saved [9163442/9163442]\n",
            "\n"
          ],
          "name": "stdout"
        }
      ]
    },
    {
      "cell_type": "code",
      "metadata": {
        "id": "PhW_O63OPg7Z",
        "colab_type": "code",
        "colab": {
          "base_uri": "https://localhost:8080/",
          "height": 51
        },
        "outputId": "f38a6d30-76bb-42ce-9b07-044637b67215"
      },
      "source": [
        "!unzip simpsons_script_lines.csv.zip"
      ],
      "execution_count": null,
      "outputs": [
        {
          "output_type": "stream",
          "text": [
            "Archive:  simpsons_script_lines.csv.zip\n",
            "  inflating: simpsons_script_lines.csv  \n"
          ],
          "name": "stdout"
        }
      ]
    },
    {
      "cell_type": "markdown",
      "metadata": {
        "id": "t8mu73Ltzp-B",
        "colab_type": "text"
      },
      "source": [
        "## 2. Обучить Word2Vec на фразах персонажей"
      ]
    },
    {
      "cell_type": "code",
      "metadata": {
        "id": "A-EN_d9kQKJT",
        "colab_type": "code",
        "colab": {}
      },
      "source": [
        "import pandas as pd\n",
        "import torch\n",
        "from torch.autograd import Variable\n",
        "import torch.nn as nn\n",
        "import torch.nn.functional as F\n",
        "import torch.optim as optim\n",
        "import random\n",
        "from collections import Counter\n",
        "import warnings\n",
        "warnings.filterwarnings(\"ignore\",category=UserWarning)\n",
        "warnings.filterwarnings(\"ignore\",category=DeprecationWarning)"
      ],
      "execution_count": null,
      "outputs": []
    },
    {
      "cell_type": "code",
      "metadata": {
        "id": "QAsoXmnMQNzO",
        "colab_type": "code",
        "colab": {
          "base_uri": "https://localhost:8080/",
          "height": 122
        },
        "outputId": "902bfcb8-d89b-49b9-bf2b-cda27682fd9c"
      },
      "source": [
        "simpsons = pd.read_csv('simpsons_script_lines.csv', error_bad_lines=False)"
      ],
      "execution_count": null,
      "outputs": [
        {
          "output_type": "stream",
          "text": [
            "b'Skipping line 8084: expected 13 fields, saw 20\\nSkipping line 52607: expected 13 fields, saw 21\\nSkipping line 59910: expected 13 fields, saw 21\\n'\n",
            "b'Skipping line 71801: expected 13 fields, saw 20\\nSkipping line 73539: expected 13 fields, saw 21\\nSkipping line 77230: expected 13 fields, saw 21\\nSkipping line 78953: expected 13 fields, saw 21\\nSkipping line 81138: expected 13 fields, saw 20\\nSkipping line 86746: expected 13 fields, saw 22\\nSkipping line 101154: expected 13 fields, saw 21\\nSkipping line 115438: expected 13 fields, saw 20\\nSkipping line 117573: expected 13 fields, saw 22\\nSkipping line 130610: expected 13 fields, saw 22\\n'\n",
            "b'Skipping line 152970: expected 13 fields, saw 22\\nSkipping line 153017: expected 13 fields, saw 20\\nSkipping line 153018: expected 13 fields, saw 30\\nSkipping line 154080: expected 13 fields, saw 20\\nSkipping line 154082: expected 13 fields, saw 20\\nSkipping line 154084: expected 13 fields, saw 20\\nSkipping line 154086: expected 13 fields, saw 20\\nSkipping line 154089: expected 13 fields, saw 23\\nSkipping line 154165: expected 13 fields, saw 21\\nSkipping line 156872: expected 13 fields, saw 20\\n'\n",
            "/usr/local/lib/python3.6/dist-packages/IPython/core/interactiveshell.py:2718: DtypeWarning: Columns (4,5,6) have mixed types.Specify dtype option on import or set low_memory=False.\n",
            "  interactivity=interactivity, compiler=compiler, result=result)\n"
          ],
          "name": "stderr"
        }
      ]
    },
    {
      "cell_type": "code",
      "metadata": {
        "id": "qNeFGnHJHJe0",
        "colab_type": "code",
        "colab": {}
      },
      "source": [
        "simpsons.dropna(inplace = True)"
      ],
      "execution_count": null,
      "outputs": []
    },
    {
      "cell_type": "code",
      "metadata": {
        "id": "9MOaUkbpQ32C",
        "colab_type": "code",
        "colab": {
          "base_uri": "https://localhost:8080/",
          "height": 632
        },
        "outputId": "59df590b-316a-4c11-eb82-6dcfe40b76d3"
      },
      "source": [
        "simpsons.head(5)"
      ],
      "execution_count": null,
      "outputs": [
        {
          "output_type": "execute_result",
          "data": {
            "text/html": [
              "<div>\n",
              "<style scoped>\n",
              "    .dataframe tbody tr th:only-of-type {\n",
              "        vertical-align: middle;\n",
              "    }\n",
              "\n",
              "    .dataframe tbody tr th {\n",
              "        vertical-align: top;\n",
              "    }\n",
              "\n",
              "    .dataframe thead th {\n",
              "        text-align: right;\n",
              "    }\n",
              "</style>\n",
              "<table border=\"1\" class=\"dataframe\">\n",
              "  <thead>\n",
              "    <tr style=\"text-align: right;\">\n",
              "      <th></th>\n",
              "      <th>id</th>\n",
              "      <th>episode_id</th>\n",
              "      <th>number</th>\n",
              "      <th>raw_text</th>\n",
              "      <th>timestamp_in_ms</th>\n",
              "      <th>speaking_line</th>\n",
              "      <th>character_id</th>\n",
              "      <th>location_id</th>\n",
              "      <th>raw_character_text</th>\n",
              "      <th>raw_location_text</th>\n",
              "      <th>spoken_words</th>\n",
              "      <th>normalized_text</th>\n",
              "      <th>word_count</th>\n",
              "    </tr>\n",
              "  </thead>\n",
              "  <tbody>\n",
              "    <tr>\n",
              "      <th>0</th>\n",
              "      <td>9549</td>\n",
              "      <td>32</td>\n",
              "      <td>209</td>\n",
              "      <td>Miss Hoover: No, actually, it was a little of ...</td>\n",
              "      <td>848000</td>\n",
              "      <td>True</td>\n",
              "      <td>464</td>\n",
              "      <td>3.0</td>\n",
              "      <td>Miss Hoover</td>\n",
              "      <td>Springfield Elementary School</td>\n",
              "      <td>No, actually, it was a little of both. Sometim...</td>\n",
              "      <td>no actually it was a little of both sometimes ...</td>\n",
              "      <td>31.0</td>\n",
              "    </tr>\n",
              "    <tr>\n",
              "      <th>1</th>\n",
              "      <td>9550</td>\n",
              "      <td>32</td>\n",
              "      <td>210</td>\n",
              "      <td>Lisa Simpson: (NEAR TEARS) Where's Mr. Bergstrom?</td>\n",
              "      <td>856000</td>\n",
              "      <td>True</td>\n",
              "      <td>9</td>\n",
              "      <td>3.0</td>\n",
              "      <td>Lisa Simpson</td>\n",
              "      <td>Springfield Elementary School</td>\n",
              "      <td>Where's Mr. Bergstrom?</td>\n",
              "      <td>wheres mr bergstrom</td>\n",
              "      <td>3.0</td>\n",
              "    </tr>\n",
              "    <tr>\n",
              "      <th>2</th>\n",
              "      <td>9551</td>\n",
              "      <td>32</td>\n",
              "      <td>211</td>\n",
              "      <td>Miss Hoover: I don't know. Although I'd sure l...</td>\n",
              "      <td>856000</td>\n",
              "      <td>True</td>\n",
              "      <td>464</td>\n",
              "      <td>3.0</td>\n",
              "      <td>Miss Hoover</td>\n",
              "      <td>Springfield Elementary School</td>\n",
              "      <td>I don't know. Although I'd sure like to talk t...</td>\n",
              "      <td>i dont know although id sure like to talk to h...</td>\n",
              "      <td>22.0</td>\n",
              "    </tr>\n",
              "    <tr>\n",
              "      <th>3</th>\n",
              "      <td>9552</td>\n",
              "      <td>32</td>\n",
              "      <td>212</td>\n",
              "      <td>Lisa Simpson: That life is worth living.</td>\n",
              "      <td>864000</td>\n",
              "      <td>True</td>\n",
              "      <td>9</td>\n",
              "      <td>3.0</td>\n",
              "      <td>Lisa Simpson</td>\n",
              "      <td>Springfield Elementary School</td>\n",
              "      <td>That life is worth living.</td>\n",
              "      <td>that life is worth living</td>\n",
              "      <td>5.0</td>\n",
              "    </tr>\n",
              "    <tr>\n",
              "      <th>4</th>\n",
              "      <td>9553</td>\n",
              "      <td>32</td>\n",
              "      <td>213</td>\n",
              "      <td>Edna Krabappel-Flanders: The polls will be ope...</td>\n",
              "      <td>864000</td>\n",
              "      <td>True</td>\n",
              "      <td>40</td>\n",
              "      <td>3.0</td>\n",
              "      <td>Edna Krabappel-Flanders</td>\n",
              "      <td>Springfield Elementary School</td>\n",
              "      <td>The polls will be open from now until the end ...</td>\n",
              "      <td>the polls will be open from now until the end ...</td>\n",
              "      <td>33.0</td>\n",
              "    </tr>\n",
              "  </tbody>\n",
              "</table>\n",
              "</div>"
            ],
            "text/plain": [
              "     id  ...  word_count\n",
              "0  9549  ...        31.0\n",
              "1  9550  ...         3.0\n",
              "2  9551  ...        22.0\n",
              "3  9552  ...         5.0\n",
              "4  9553  ...        33.0\n",
              "\n",
              "[5 rows x 13 columns]"
            ]
          },
          "metadata": {
            "tags": []
          },
          "execution_count": 8
        }
      ]
    },
    {
      "cell_type": "code",
      "metadata": {
        "id": "rRHKmN1w5Htt",
        "colab_type": "code",
        "colab": {}
      },
      "source": [
        "simpsons = simpsons.sort_values(by = 'id')"
      ],
      "execution_count": null,
      "outputs": []
    },
    {
      "cell_type": "code",
      "metadata": {
        "id": "sSoZbbZ05V7T",
        "colab_type": "code",
        "colab": {
          "base_uri": "https://localhost:8080/",
          "height": 598
        },
        "outputId": "29057010-d8e8-4f9a-9a36-791f4215547a"
      },
      "source": [
        "simpsons.tail()"
      ],
      "execution_count": null,
      "outputs": [
        {
          "output_type": "execute_result",
          "data": {
            "text/html": [
              "<div>\n",
              "<style scoped>\n",
              "    .dataframe tbody tr th:only-of-type {\n",
              "        vertical-align: middle;\n",
              "    }\n",
              "\n",
              "    .dataframe tbody tr th {\n",
              "        vertical-align: top;\n",
              "    }\n",
              "\n",
              "    .dataframe thead th {\n",
              "        text-align: right;\n",
              "    }\n",
              "</style>\n",
              "<table border=\"1\" class=\"dataframe\">\n",
              "  <thead>\n",
              "    <tr style=\"text-align: right;\">\n",
              "      <th></th>\n",
              "      <th>id</th>\n",
              "      <th>episode_id</th>\n",
              "      <th>number</th>\n",
              "      <th>raw_text</th>\n",
              "      <th>timestamp_in_ms</th>\n",
              "      <th>speaking_line</th>\n",
              "      <th>character_id</th>\n",
              "      <th>location_id</th>\n",
              "      <th>raw_character_text</th>\n",
              "      <th>raw_location_text</th>\n",
              "      <th>spoken_words</th>\n",
              "      <th>normalized_text</th>\n",
              "      <th>word_count</th>\n",
              "    </tr>\n",
              "  </thead>\n",
              "  <tbody>\n",
              "    <tr>\n",
              "      <th>147762</th>\n",
              "      <td>158303</td>\n",
              "      <td>568</td>\n",
              "      <td>193</td>\n",
              "      <td>Homer Simpson: I'm not leaving this casino unt...</td>\n",
              "      <td>1211000</td>\n",
              "      <td>true</td>\n",
              "      <td>2</td>\n",
              "      <td>4457.0</td>\n",
              "      <td>Homer Simpson</td>\n",
              "      <td>CASINO FLOOR</td>\n",
              "      <td>I'm not leaving this casino until you stop pun...</td>\n",
              "      <td>im not leaving this casino until you stop puni...</td>\n",
              "      <td>21.0</td>\n",
              "    </tr>\n",
              "    <tr>\n",
              "      <th>147766</th>\n",
              "      <td>158308</td>\n",
              "      <td>568</td>\n",
              "      <td>198</td>\n",
              "      <td>Marge Simpson: Homie, after all this, do you s...</td>\n",
              "      <td>1227000</td>\n",
              "      <td>true</td>\n",
              "      <td>1</td>\n",
              "      <td>131.0</td>\n",
              "      <td>Marge Simpson</td>\n",
              "      <td>First Church of Springfield</td>\n",
              "      <td>Homie, after all this, do you still believe in...</td>\n",
              "      <td>homie after all this do you still believe in god</td>\n",
              "      <td>10.0</td>\n",
              "    </tr>\n",
              "    <tr>\n",
              "      <th>147767</th>\n",
              "      <td>158309</td>\n",
              "      <td>568</td>\n",
              "      <td>199</td>\n",
              "      <td>Homer Simpson: On a beautiful night like tonig...</td>\n",
              "      <td>1230000</td>\n",
              "      <td>true</td>\n",
              "      <td>2</td>\n",
              "      <td>131.0</td>\n",
              "      <td>Homer Simpson</td>\n",
              "      <td>First Church of Springfield</td>\n",
              "      <td>On a beautiful night like tonight... how could...</td>\n",
              "      <td>on a beautiful night like tonight how could i not</td>\n",
              "      <td>10.0</td>\n",
              "    </tr>\n",
              "    <tr>\n",
              "      <th>147769</th>\n",
              "      <td>158311</td>\n",
              "      <td>568</td>\n",
              "      <td>201</td>\n",
              "      <td>Lou: Next week on \"Sky Police\".</td>\n",
              "      <td>1292000</td>\n",
              "      <td>true</td>\n",
              "      <td>91</td>\n",
              "      <td>3.0</td>\n",
              "      <td>Lou</td>\n",
              "      <td>Springfield Elementary School</td>\n",
              "      <td>Next week on \"Sky Police\".</td>\n",
              "      <td>next week on sky police</td>\n",
              "      <td>5.0</td>\n",
              "    </tr>\n",
              "    <tr>\n",
              "      <th>147773</th>\n",
              "      <td>158315</td>\n",
              "      <td>568</td>\n",
              "      <td>205</td>\n",
              "      <td>Chief Wiggum: Sky police!</td>\n",
              "      <td>1292000</td>\n",
              "      <td>true</td>\n",
              "      <td>71</td>\n",
              "      <td>585.0</td>\n",
              "      <td>Chief Wiggum</td>\n",
              "      <td>Warehouse District</td>\n",
              "      <td>Sky police!</td>\n",
              "      <td>sky police</td>\n",
              "      <td>2.0</td>\n",
              "    </tr>\n",
              "  </tbody>\n",
              "</table>\n",
              "</div>"
            ],
            "text/plain": [
              "            id  ...  word_count\n",
              "147762  158303  ...        21.0\n",
              "147766  158308  ...        10.0\n",
              "147767  158309  ...        10.0\n",
              "147769  158311  ...         5.0\n",
              "147773  158315  ...         2.0\n",
              "\n",
              "[5 rows x 13 columns]"
            ]
          },
          "metadata": {
            "tags": []
          },
          "execution_count": 10
        }
      ]
    },
    {
      "cell_type": "code",
      "metadata": {
        "id": "xKwczYZpUkA3",
        "colab_type": "code",
        "colab": {}
      },
      "source": [
        "phrases = simpsons['normalized_text'].to_list()"
      ],
      "execution_count": null,
      "outputs": []
    },
    {
      "cell_type": "code",
      "metadata": {
        "id": "8wPSRmtCAzJC",
        "colab_type": "code",
        "colab": {
          "base_uri": "https://localhost:8080/",
          "height": 34
        },
        "outputId": "08e7d14e-748e-43c2-f7e9-ff12b893eafc"
      },
      "source": [
        "episodes = simpsons['episode_id'].unique()\n",
        "len(episodes)"
      ],
      "execution_count": null,
      "outputs": [
        {
          "output_type": "execute_result",
          "data": {
            "text/plain": [
              "564"
            ]
          },
          "metadata": {
            "tags": []
          },
          "execution_count": 13
        }
      ]
    },
    {
      "cell_type": "code",
      "metadata": {
        "id": "1b7yJCKzXGDh",
        "colab_type": "code",
        "colab": {}
      },
      "source": [
        "# соединение списка фраз в один текст, без цифр\n",
        "def phrases_to_text(phrases):\n",
        "  text = ''\n",
        "  number_digits = 0\n",
        "  for i in range(len(phrases)):\n",
        "    if not str(phrases[i]).isdigit():\n",
        "      text += ' ' + str(phrases[i])\n",
        "    else:\n",
        "      number_digits += 1\n",
        "  if number_digits != 0:\n",
        "    print('Число удаленных цифр в тексте', number_digits)\n",
        "  \n",
        "  return text"
      ],
      "execution_count": null,
      "outputs": []
    },
    {
      "cell_type": "code",
      "metadata": {
        "id": "b6P8ywojd6nM",
        "colab_type": "code",
        "colab": {
          "base_uri": "https://localhost:8080/",
          "height": 34
        },
        "outputId": "cb15f838-b61e-4fe5-c1ba-0143198dfdbb"
      },
      "source": [
        "query = phrases_to_text(phrases)"
      ],
      "execution_count": null,
      "outputs": [
        {
          "output_type": "stream",
          "text": [
            "Число удаленных цифр в тексте 10\n"
          ],
          "name": "stdout"
        }
      ]
    },
    {
      "cell_type": "code",
      "metadata": {
        "id": "4dZCm7yA_l8t",
        "colab_type": "code",
        "colab": {
          "base_uri": "https://localhost:8080/",
          "height": 34
        },
        "outputId": "8a319bed-f392-4fba-ec52-f251fb20f57c"
      },
      "source": [
        "# исходная длина словаря\n",
        "len(set(query.split()))"
      ],
      "execution_count": null,
      "outputs": [
        {
          "output_type": "execute_result",
          "data": {
            "text/plain": [
              "46773"
            ]
          },
          "metadata": {
            "tags": []
          },
          "execution_count": 16
        }
      ]
    },
    {
      "cell_type": "markdown",
      "metadata": {
        "id": "4VaRZfByYB6p",
        "colab_type": "text"
      },
      "source": [
        "Удалим редкие слова (встречаются 1 раз) из текста"
      ]
    },
    {
      "cell_type": "code",
      "metadata": {
        "id": "DneU37YieY3k",
        "colab_type": "code",
        "colab": {}
      },
      "source": [
        "cnt = Counter(query.split())"
      ],
      "execution_count": null,
      "outputs": []
    },
    {
      "cell_type": "code",
      "metadata": {
        "id": "4ypg2LJLggmv",
        "colab_type": "code",
        "colab": {}
      },
      "source": [
        "# список редких слов\n",
        "rare_words = []\n",
        "for key in cnt:\n",
        "  if cnt[key] == 1:\n",
        "    rare_words.append(key)"
      ],
      "execution_count": null,
      "outputs": []
    },
    {
      "cell_type": "code",
      "metadata": {
        "id": "VSQCC6_8YA6T",
        "colab_type": "code",
        "colab": {}
      },
      "source": [
        "rare_words = set(rare_words)\n",
        "querywords = query.split()\n",
        "resultwords  = [word for word in querywords if word not in rare_words]"
      ],
      "execution_count": null,
      "outputs": []
    },
    {
      "cell_type": "code",
      "metadata": {
        "id": "DVUQdpDtkVy9",
        "colab_type": "code",
        "colab": {
          "base_uri": "https://localhost:8080/",
          "height": 34
        },
        "outputId": "aa5fee15-4c3b-49c0-f5a7-db5012bc7ae2"
      },
      "source": [
        "len(resultwords),len(rare_words)"
      ],
      "execution_count": null,
      "outputs": [
        {
          "output_type": "execute_result",
          "data": {
            "text/plain": [
              "(1279162, 22808)"
            ]
          },
          "metadata": {
            "tags": []
          },
          "execution_count": 20
        }
      ]
    },
    {
      "cell_type": "code",
      "metadata": {
        "id": "5wtbXlR3ABTo",
        "colab_type": "code",
        "colab": {
          "base_uri": "https://localhost:8080/",
          "height": 34
        },
        "outputId": "2a6f7978-3367-4e45-c272-2fe779ccb87a"
      },
      "source": [
        "vocabulary = set(resultwords)\n",
        "len(vocabulary)"
      ],
      "execution_count": null,
      "outputs": [
        {
          "output_type": "execute_result",
          "data": {
            "text/plain": [
              "23965"
            ]
          },
          "metadata": {
            "tags": []
          },
          "execution_count": 21
        }
      ]
    },
    {
      "cell_type": "markdown",
      "metadata": {
        "id": "DnaXTwAAlPdh",
        "colab_type": "text"
      },
      "source": [
        "словарь сократился на **22808** слов"
      ]
    },
    {
      "cell_type": "code",
      "metadata": {
        "id": "sfaddtkJamD8",
        "colab_type": "code",
        "colab": {}
      },
      "source": [
        "w2i = {w: i for i, w in enumerate(vocabulary)}\n",
        "i2w = {i: w for i, w in enumerate(vocabulary)}"
      ],
      "execution_count": null,
      "outputs": []
    },
    {
      "cell_type": "code",
      "metadata": {
        "id": "FPmCS-jByqgq",
        "colab_type": "code",
        "colab": {}
      },
      "source": [
        "# здесь создается датасет для тренировки CBOW \n",
        "#  основная идея метода - выделение отдельных эпизодов, \n",
        "#как объединенных единым смыслом участков текста для создания правильного контекста\n",
        "# context window size is four\n",
        "def create_cbow_dataset(df, rare_words):\n",
        "  episodes = df['episode_id'].unique()\n",
        "  data = []\n",
        "  for episode in episodes:\n",
        "    ep_frame = df[df['episode_id'] == episode]\n",
        "    ep_frame =  ep_frame.sort_values(by = 'id')\n",
        "    episode_phrases = ep_frame['normalized_text'].to_list()\n",
        "    text = phrases_to_text(episode_phrases)\n",
        "    querywords = text.split()\n",
        "    text  = [word for word in querywords if word not in rare_words]\n",
        "\n",
        "    for i in range(4, len(text) - 4):\n",
        "        context = [text[i - 4],text[i - 3], text[i - 2],text[i - 1],\n",
        "                   text[i + 1], text[i + 2],text[i + 3], text[i + 4]]\n",
        "        target = text[i]\n",
        "        data.append((context, target))\n",
        "  return data"
      ],
      "execution_count": null,
      "outputs": []
    },
    {
      "cell_type": "code",
      "metadata": {
        "id": "AJXa6eqW_zMQ",
        "colab_type": "code",
        "colab": {
          "base_uri": "https://localhost:8080/",
          "height": 119
        },
        "outputId": "eeaa4826-0b46-4269-bbe7-aac00da6486b"
      },
      "source": [
        "cbow_train = create_cbow_dataset(simpsons,rare_words)"
      ],
      "execution_count": null,
      "outputs": [
        {
          "output_type": "stream",
          "text": [
            "Число удаленных цифр в тексте 5\n",
            "Число удаленных цифр в тексте 1\n",
            "Число удаленных цифр в тексте 1\n",
            "Число удаленных цифр в тексте 1\n",
            "Число удаленных цифр в тексте 1\n",
            "Число удаленных цифр в тексте 1\n"
          ],
          "name": "stdout"
        }
      ]
    },
    {
      "cell_type": "code",
      "metadata": {
        "id": "LTxwzFOzJtD4",
        "colab_type": "code",
        "colab": {
          "base_uri": "https://localhost:8080/",
          "height": 34
        },
        "outputId": "39322714-b3b2-4750-dfde-0a021e93528c"
      },
      "source": [
        "len(cbow_train)"
      ],
      "execution_count": null,
      "outputs": [
        {
          "output_type": "execute_result",
          "data": {
            "text/plain": [
              "1274650"
            ]
          },
          "metadata": {
            "tags": []
          },
          "execution_count": 25
        }
      ]
    },
    {
      "cell_type": "code",
      "metadata": {
        "id": "0NCl5zb0L50d",
        "colab_type": "code",
        "colab": {
          "base_uri": "https://localhost:8080/",
          "height": 34
        },
        "outputId": "396e47df-0a40-4acc-a41e-2f84dd7f4d46"
      },
      "source": [
        "print('cbow sample', cbow_train[21112])"
      ],
      "execution_count": null,
      "outputs": [
        {
          "output_type": "stream",
          "text": [
            "cbow sample (['oh', 'i', 'dont', 'want', 'trouble', 'you', 'not', 'at'], 'to')\n"
          ],
          "name": "stdout"
        }
      ]
    },
    {
      "cell_type": "code",
      "metadata": {
        "id": "CXAbXxt3xy7c",
        "colab_type": "code",
        "colab": {}
      },
      "source": [
        "class CBOW(nn.Module):\n",
        "    def __init__(self, vocab_size, embd_size, context_size, hidden_size):\n",
        "        super(CBOW, self).__init__()\n",
        "        self.embeddings = nn.Embedding(vocab_size, embd_size)\n",
        "        self.linear1 = nn.Linear(2*context_size*embd_size, hidden_size)\n",
        "        self.linear2 = nn.Linear(hidden_size, vocab_size)\n",
        "        \n",
        "    def forward(self, inputs):\n",
        "        embedded = self.embeddings(inputs).view((inputs.shape[0], -1))\n",
        "        hid = F.relu(self.linear1(embedded))\n",
        "        out = self.linear2(hid)\n",
        "        log_probs = F.log_softmax(out)\n",
        "        return log_probs"
      ],
      "execution_count": null,
      "outputs": []
    },
    {
      "cell_type": "code",
      "metadata": {
        "id": "_EW5yIhZ_Lai",
        "colab_type": "code",
        "colab": {}
      },
      "source": [
        "# подготовка массива для обучения\n",
        "# превращение слов в контекст и таргет (Torch tensor ) из наборов  cbow_train\n",
        "TRAIN = []\n",
        "for context, target in cbow_train:\n",
        "  ctx_idxs = [w2i[w] for w in context]\n",
        "  ctx_idxs = torch.LongTensor(ctx_idxs)\n",
        "  TRAIN.append((ctx_idxs,torch.LongTensor([w2i[target]])))\n"
      ],
      "execution_count": null,
      "outputs": []
    },
    {
      "cell_type": "code",
      "metadata": {
        "id": "qtmiyVug_69x",
        "colab_type": "code",
        "colab": {
          "base_uri": "https://localhost:8080/",
          "height": 51
        },
        "outputId": "c3fa6864-959d-4c21-e8d4-9193727cd9cb"
      },
      "source": [
        "TRAIN[4]"
      ],
      "execution_count": null,
      "outputs": [
        {
          "output_type": "execute_result",
          "data": {
            "text/plain": [
              "(tensor([20128,  7099,  3348, 17931,  6918, 21628,  8105,  5016]),\n",
              " tensor([6707]))"
            ]
          },
          "metadata": {
            "tags": []
          },
          "execution_count": 29
        }
      ]
    },
    {
      "cell_type": "code",
      "metadata": {
        "id": "uT_UBfUqjYw0",
        "colab_type": "code",
        "colab": {
          "base_uri": "https://localhost:8080/",
          "height": 34
        },
        "outputId": "c6f6a1b0-7afb-4f42-a59d-880c009eb96d"
      },
      "source": [
        "len(TRAIN)"
      ],
      "execution_count": null,
      "outputs": [
        {
          "output_type": "execute_result",
          "data": {
            "text/plain": [
              "1274650"
            ]
          },
          "metadata": {
            "tags": []
          },
          "execution_count": 30
        }
      ]
    },
    {
      "cell_type": "code",
      "metadata": {
        "id": "XN5Sjjz5ACI8",
        "colab_type": "code",
        "colab": {}
      },
      "source": [
        "BATCH_SIZE = 900\n",
        "train_iter = torch.utils.data.DataLoader(TRAIN, batch_size=BATCH_SIZE, shuffle = True)"
      ],
      "execution_count": null,
      "outputs": []
    },
    {
      "cell_type": "code",
      "metadata": {
        "id": "0qsYmmkh5cmQ",
        "colab_type": "code",
        "colab": {
          "base_uri": "https://localhost:8080/",
          "height": 1000
        },
        "outputId": "e094d504-f8a1-4571-abbc-97083415a9d2"
      },
      "source": [
        "embd_size = 300\n",
        "learning_rate = 2.0\n",
        "n_epoch = 50\n",
        "vocab_size = len(vocabulary)\n",
        "CONTEXT_SIZE = 4  # 4 words to the left, 4 to the right\n",
        "\n",
        "hidden_size = 300\n",
        "losses = []\n",
        "loss_fn = nn.NLLLoss()\n",
        "#model = CBOW(vocab_size, embd_size, CONTEXT_SIZE, hidden_size)\n",
        "model.cuda()\n",
        "optimizer = optim.SGD(model.parameters(), lr=learning_rate)\n",
        "ep = [i for i in range(n_epoch)]\n",
        "for epoch in ep:\n",
        "    print(f'===========epoch=={epoch}===========')\n",
        "    total_loss = .0\n",
        "    for context, target in train_iter:\n",
        "        context,target = context.cuda(), target.cuda()\n",
        "        #print(context.shape)\n",
        "        #context = context.unsqueeze(0)\n",
        "        #print(context.shape)\n",
        "        #print(target.shape)\n",
        "        model.zero_grad()\n",
        "        log_probs = model(context)\n",
        "        #print('OUTPUT', log_probs.shape)\n",
        "        target = target.squeeze()\n",
        "        #print('TARGET',target.shape)\n",
        "        loss = loss_fn(log_probs, target)\n",
        "\n",
        "        loss.backward()\n",
        "        optimizer.step()\n",
        "\n",
        "        total_loss += loss.item()\n",
        "    print(f'loss = {total_loss}')\n",
        "    losses.append(total_loss)"
      ],
      "execution_count": null,
      "outputs": [
        {
          "output_type": "stream",
          "text": [
            "===========epoch==0===========\n",
            "loss = 4406.930023908615\n",
            "===========epoch==1===========\n",
            "loss = 4403.100372552872\n",
            "===========epoch==2===========\n",
            "loss = 4345.332688093185\n",
            "===========epoch==3===========\n",
            "loss = 4301.562513589859\n",
            "===========epoch==4===========\n",
            "loss = 4259.8434863090515\n",
            "===========epoch==5===========\n",
            "loss = 4225.051831245422\n",
            "===========epoch==6===========\n",
            "loss = 4191.900539398193\n",
            "===========epoch==7===========\n",
            "loss = 4162.972436666489\n",
            "===========epoch==8===========\n",
            "loss = 4135.511107683182\n",
            "===========epoch==9===========\n",
            "loss = 4107.411483764648\n",
            "===========epoch==10===========\n",
            "loss = 4082.625952720642\n",
            "===========epoch==11===========\n",
            "loss = 4055.9252395629883\n",
            "===========epoch==12===========\n",
            "loss = 4033.2178032398224\n",
            "===========epoch==13===========\n",
            "loss = 4013.185335636139\n",
            "===========epoch==14===========\n",
            "loss = 3991.2195901870728\n",
            "===========epoch==15===========\n",
            "loss = 3961.924654006958\n",
            "===========epoch==16===========\n",
            "loss = 3941.789987564087\n",
            "===========epoch==17===========\n",
            "loss = 3921.574379682541\n",
            "===========epoch==18===========\n",
            "loss = 3899.490676879883\n",
            "===========epoch==19===========\n",
            "loss = 3880.1475071907043\n",
            "===========epoch==20===========\n",
            "loss = 3858.4568514823914\n",
            "===========epoch==21===========\n",
            "loss = 3839.482096672058\n",
            "===========epoch==22===========\n",
            "loss = 3816.3696868419647\n",
            "===========epoch==23===========\n",
            "loss = 3798.964328289032\n",
            "===========epoch==24===========\n",
            "loss = 3776.881359100342\n",
            "===========epoch==25===========\n",
            "loss = 3759.423469543457\n",
            "===========epoch==26===========\n",
            "loss = 3739.6014533042908\n",
            "===========epoch==27===========\n",
            "loss = 3723.158895969391\n",
            "===========epoch==28===========\n",
            "loss = 3706.378955602646\n",
            "===========epoch==29===========\n",
            "loss = 3686.818374633789\n",
            "===========epoch==30===========\n",
            "loss = 3666.85919547081\n",
            "===========epoch==31===========\n",
            "loss = 3650.1933329105377\n",
            "===========epoch==32===========\n",
            "loss = 3634.039526462555\n",
            "===========epoch==33===========\n",
            "loss = 3613.5731568336487\n",
            "===========epoch==34===========\n",
            "loss = 3598.922842979431\n",
            "===========epoch==35===========\n",
            "loss = 3577.893814086914\n",
            "===========epoch==36===========\n",
            "loss = 3561.878958463669\n",
            "===========epoch==37===========\n",
            "loss = 3544.571947813034\n",
            "===========epoch==38===========\n",
            "loss = 3531.7397980690002\n",
            "===========epoch==39===========\n",
            "loss = 3510.458666563034\n",
            "===========epoch==40===========\n",
            "loss = 3496.254686832428\n",
            "===========epoch==41===========\n",
            "loss = 3478.994284629822\n",
            "===========epoch==42===========\n",
            "loss = 3463.8413441181183\n",
            "===========epoch==43===========\n",
            "loss = 3446.928433895111\n",
            "===========epoch==44===========\n",
            "loss = 3430.557489156723\n",
            "===========epoch==45===========\n",
            "loss = 3412.624714255333\n",
            "===========epoch==46===========\n",
            "loss = 3400.648604989052\n",
            "===========epoch==47===========\n",
            "loss = 3382.710115790367\n",
            "===========epoch==48===========\n",
            "loss = 3365.2301429510117\n",
            "===========epoch==49===========\n",
            "loss = 3350.1634937524796\n"
          ],
          "name": "stdout"
        }
      ]
    },
    {
      "cell_type": "code",
      "metadata": {
        "id": "L64fTPCFVqv1",
        "colab_type": "code",
        "colab": {}
      },
      "source": [
        "sample_to_test = [cbow_train[random.randint(1,len(cbow_train))] for i in range(900)]"
      ],
      "execution_count": null,
      "outputs": []
    },
    {
      "cell_type": "code",
      "metadata": {
        "id": "mEWSP0liYGyE",
        "colab_type": "code",
        "colab": {
          "base_uri": "https://localhost:8080/",
          "height": 102
        },
        "outputId": "27554fc1-3a33-4fc6-8b52-9e22f33b4c9c"
      },
      "source": [
        "model.cpu()"
      ],
      "execution_count": null,
      "outputs": [
        {
          "output_type": "execute_result",
          "data": {
            "text/plain": [
              "CBOW(\n",
              "  (embeddings): Embedding(23965, 300)\n",
              "  (linear1): Linear(in_features=2400, out_features=300, bias=True)\n",
              "  (linear2): Linear(in_features=300, out_features=23965, bias=True)\n",
              ")"
            ]
          },
          "metadata": {
            "tags": []
          },
          "execution_count": 47
        }
      ]
    },
    {
      "cell_type": "code",
      "metadata": {
        "id": "5tv5uKfARCiG",
        "colab_type": "code",
        "colab": {}
      },
      "source": [
        "def test_cbow(test_data, model):\n",
        "    print('====Test CBOW===')\n",
        "    correct_ct = 0\n",
        "    for ctx, target in test_data:\n",
        "        ctx_idxs = [w2i[w] for w in ctx]\n",
        "        ctx_var = Variable(torch.LongTensor(ctx_idxs))\n",
        "        ctx_var = ctx_var.unsqueeze(0)\n",
        "        model.zero_grad()\n",
        "        log_probs = model(ctx_var)\n",
        "        _, predicted = torch.max(log_probs.data, 1)\n",
        "        predicted_word = i2w[predicted.item()]\n",
        "        if predicted_word == target:\n",
        "            correct_ct += 1\n",
        "        print('label :', target)\n",
        "        print('predicted:', predicted_word)\n",
        "             \n",
        "    print('Accuracy: {:.1f}% ({:d}/{:d})'.format(correct_ct/len(test_data)*100, correct_ct, len(test_data)))"
      ],
      "execution_count": null,
      "outputs": []
    },
    {
      "cell_type": "code",
      "metadata": {
        "id": "-S847Vc7cgj9",
        "colab_type": "code",
        "colab": {
          "base_uri": "https://localhost:8080/",
          "height": 1000
        },
        "outputId": "bafe9a95-bdb5-4359-8c32-7f7c6e2bbce8"
      },
      "source": [
        "test_cbow(sample_to_test,model)"
      ],
      "execution_count": null,
      "outputs": [
        {
          "output_type": "stream",
          "text": [
            "====Test CBOW===\n",
            "label : whole\n",
            "predicted: whole\n",
            "label : lisa\n",
            "predicted: burns\n",
            "label : bed\n",
            "predicted: bed\n",
            "label : and\n",
            "predicted: and\n",
            "label : dont\n",
            "predicted: dont\n",
            "label : i\n",
            "predicted: i\n",
            "label : his\n",
            "predicted: the\n",
            "label : person\n",
            "predicted: person\n",
            "label : and\n",
            "predicted: and\n",
            "label : hes\n",
            "predicted: look\n",
            "label : in\n",
            "predicted: there\n",
            "label : read\n",
            "predicted: had\n",
            "label : there\n",
            "predicted: there\n",
            "label : after\n",
            "predicted: after\n",
            "label : be\n",
            "predicted: be\n",
            "label : say\n",
            "predicted: from\n",
            "label : not\n",
            "predicted: not\n",
            "label : the\n",
            "predicted: the\n",
            "label : ba\n",
            "predicted: ba\n",
            "label : and\n",
            "predicted: it\n",
            "label : take\n",
            "predicted: just\n",
            "label : is\n",
            "predicted: was\n",
            "label : very\n",
            "predicted: very\n",
            "label : --\n",
            "predicted: and\n",
            "label : flanders\n",
            "predicted: that\n",
            "label : may\n",
            "predicted: if\n",
            "label : mean\n",
            "predicted: mean\n",
            "label : man\n",
            "predicted: man\n",
            "label : brooks\n",
            "predicted: the\n",
            "label : could\n",
            "predicted: yeah\n",
            "label : nice\n",
            "predicted: old\n",
            "label : here\n",
            "predicted: here\n",
            "label : miss\n",
            "predicted: think\n",
            "label : the\n",
            "predicted: the\n",
            "label : her\n",
            "predicted: my\n",
            "label : know\n",
            "predicted: owe\n",
            "label : boy\n",
            "predicted: kind\n",
            "label : a\n",
            "predicted: a\n",
            "label : is\n",
            "predicted: the\n",
            "label : spoon\n",
            "predicted: spoon\n",
            "label : a\n",
            "predicted: a\n",
            "label : prayers\n",
            "predicted: prayers\n",
            "label : it\n",
            "predicted: come\n",
            "label : car\n",
            "predicted: contest\n",
            "label : pimps\n",
            "predicted: pimps\n",
            "label : that\n",
            "predicted: that\n",
            "label : on\n",
            "predicted: in\n",
            "label : you\n",
            "predicted: you\n",
            "label : oscars\n",
            "predicted: oscars\n",
            "label : tobacco\n",
            "predicted: tobacco\n",
            "label : that\n",
            "predicted: that\n",
            "label : in\n",
            "predicted: in\n",
            "label : biting\n",
            "predicted: biting\n",
            "label : for\n",
            "predicted: by\n",
            "label : romantic\n",
            "predicted: that\n",
            "label : head\n",
            "predicted: face\n",
            "label : back\n",
            "predicted: back\n",
            "label : fancy\n",
            "predicted: fancy\n",
            "label : you\n",
            "predicted: was\n",
            "label : anonymous\n",
            "predicted: anonymous\n",
            "label : tā\n",
            "predicted: tā\n",
            "label : oh\n",
            "predicted: but\n",
            "label : real\n",
            "predicted: real\n",
            "label : the\n",
            "predicted: our\n",
            "label : my\n",
            "predicted: my\n",
            "label : crazy\n",
            "predicted: what\n",
            "label : my\n",
            "predicted: the\n",
            "label : just\n",
            "predicted: that\n",
            "label : pastry\n",
            "predicted: the\n",
            "label : name\n",
            "predicted: plan\n",
            "label : jiminy\n",
            "predicted: jiminy\n",
            "label : to\n",
            "predicted: to\n",
            "label : to\n",
            "predicted: to\n",
            "label : for\n",
            "predicted: that\n",
            "label : i\n",
            "predicted: well\n",
            "label : eating\n",
            "predicted: looking\n",
            "label : float\n",
            "predicted: float\n",
            "label : may\n",
            "predicted: may\n",
            "label : up\n",
            "predicted: the\n",
            "label : your\n",
            "predicted: the\n",
            "label : their\n",
            "predicted: the\n",
            "label : store\n",
            "predicted: way\n",
            "label : sponge\n",
            "predicted: sponge\n",
            "label : you\n",
            "predicted: us\n",
            "label : jr\n",
            "predicted: jr\n",
            "label : you\n",
            "predicted: that\n",
            "label : still\n",
            "predicted: gotta\n",
            "label : is\n",
            "predicted: yeah\n",
            "label : of\n",
            "predicted: of\n",
            "label : like\n",
            "predicted: here\n",
            "label : dya\n",
            "predicted: you\n",
            "label : did\n",
            "predicted: cant\n",
            "label : possession\n",
            "predicted: possession\n",
            "label : no\n",
            "predicted: and\n",
            "label : on\n",
            "predicted: that\n",
            "label : the\n",
            "predicted: the\n",
            "label : just\n",
            "predicted: just\n",
            "label : go\n",
            "predicted: go\n",
            "label : spare\n",
            "predicted: spare\n",
            "label : try\n",
            "predicted: want\n",
            "label : chief\n",
            "predicted: at\n",
            "label : maybe\n",
            "predicted: and\n",
            "label : cant\n",
            "predicted: never\n",
            "label : angel\n",
            "predicted: it\n",
            "label : i\n",
            "predicted: i\n",
            "label : affect\n",
            "predicted: affect\n",
            "label : please\n",
            "predicted: hello\n",
            "label : in\n",
            "predicted: out\n",
            "label : is\n",
            "predicted: out\n",
            "label : agriculture\n",
            "predicted: agriculture\n",
            "label : gonna\n",
            "predicted: gonna\n",
            "label : what\n",
            "predicted: touching\n",
            "label : and\n",
            "predicted: things\n",
            "label : are\n",
            "predicted: were\n",
            "label : there\n",
            "predicted: george\n",
            "label : look\n",
            "predicted: lab\n",
            "label : yaz\n",
            "predicted: yaz\n",
            "label : works\n",
            "predicted: wait\n",
            "label : what\n",
            "predicted: what\n",
            "label : arent\n",
            "predicted: whatre\n",
            "label : bart\n",
            "predicted: done\n",
            "label : is\n",
            "predicted: is\n",
            "label : that\n",
            "predicted: that\n",
            "label : pinch\n",
            "predicted: pinch\n",
            "label : think\n",
            "predicted: think\n",
            "label : those\n",
            "predicted: those\n",
            "label : inspired\n",
            "predicted: inspired\n",
            "label : bring\n",
            "predicted: all\n",
            "label : vegetables\n",
            "predicted: of\n",
            "label : i\n",
            "predicted: you\n",
            "label : art\n",
            "predicted: the\n",
            "label : have\n",
            "predicted: have\n",
            "label : my\n",
            "predicted: that\n",
            "label : but\n",
            "predicted: and\n",
            "label : back\n",
            "predicted: back\n",
            "label : friends\n",
            "predicted: idea\n",
            "label : about\n",
            "predicted: about\n",
            "label : and\n",
            "predicted: ill\n",
            "label : ill\n",
            "predicted: ill\n",
            "label : homer\n",
            "predicted: homer\n",
            "label : from\n",
            "predicted: wants\n",
            "label : more\n",
            "predicted: more\n",
            "label : no\n",
            "predicted: no\n",
            "label : of\n",
            "predicted: of\n",
            "label : voting\n",
            "predicted: voting\n",
            "label : homer\n",
            "predicted: was\n",
            "label : to\n",
            "predicted: the\n",
            "label : you\n",
            "predicted: you\n",
            "label : your\n",
            "predicted: the\n",
            "label : this\n",
            "predicted: fox\n",
            "label : such\n",
            "predicted: such\n",
            "label : so\n",
            "predicted: now\n",
            "label : highly\n",
            "predicted: highly\n",
            "label : we\n",
            "predicted: we\n",
            "label : i\n",
            "predicted: i\n",
            "label : now\n",
            "predicted: window\n",
            "label : from\n",
            "predicted: from\n",
            "label : hidilly\n",
            "predicted: hidilly\n",
            "label : like\n",
            "predicted: like\n",
            "label : barts\n",
            "predicted: the\n",
            "label : a\n",
            "predicted: a\n",
            "label : bully\n",
            "predicted: bully\n",
            "label : i\n",
            "predicted: i\n",
            "label : what\n",
            "predicted: well\n",
            "label : family\n",
            "predicted: and\n",
            "label : door\n",
            "predicted: door\n",
            "label : my\n",
            "predicted: the\n",
            "label : from\n",
            "predicted: to\n",
            "label : schools\n",
            "predicted: get\n",
            "label : waltz\n",
            "predicted: waltz\n",
            "label : my\n",
            "predicted: my\n",
            "label : back\n",
            "predicted: a\n",
            "label : me\n",
            "predicted: him\n",
            "label : to\n",
            "predicted: to\n",
            "label : why\n",
            "predicted: smithers\n",
            "label : here\n",
            "predicted: there\n",
            "label : i\n",
            "predicted: i\n",
            "label : homer\n",
            "predicted: that\n",
            "label : midnight\n",
            "predicted: man\n",
            "label : a\n",
            "predicted: a\n",
            "label : line\n",
            "predicted: and\n",
            "label : a\n",
            "predicted: a\n",
            "label : it\n",
            "predicted: a\n",
            "label : marrying\n",
            "predicted: marrying\n",
            "label : our\n",
            "predicted: our\n",
            "label : up\n",
            "predicted: us\n",
            "label : most\n",
            "predicted: most\n",
            "label : homer\n",
            "predicted: yes\n",
            "label : the\n",
            "predicted: the\n",
            "label : right\n",
            "predicted: right\n",
            "label : why\n",
            "predicted: what\n",
            "label : from\n",
            "predicted: marge\n",
            "label : here\n",
            "predicted: happy\n",
            "label : unorthodox\n",
            "predicted: unorthodox\n",
            "label : with\n",
            "predicted: that\n",
            "label : people\n",
            "predicted: mind\n",
            "label : plays\n",
            "predicted: plays\n",
            "label : enough\n",
            "predicted: enough\n",
            "label : phoenix\n",
            "predicted: phoenix\n",
            "label : us\n",
            "predicted: us\n",
            "label : a\n",
            "predicted: the\n",
            "label : of\n",
            "predicted: so\n",
            "label : underwear\n",
            "predicted: underwear\n",
            "label : and\n",
            "predicted: oh\n",
            "label : heh\n",
            "predicted: heh\n",
            "label : to\n",
            "predicted: to\n",
            "label : have\n",
            "predicted: get\n",
            "label : twelve\n",
            "predicted: twelve\n",
            "label : not\n",
            "predicted: not\n",
            "label : photo\n",
            "predicted: photo\n",
            "label : dont\n",
            "predicted: dont\n",
            "label : her\n",
            "predicted: real\n",
            "label : one\n",
            "predicted: one\n",
            "label : terrible\n",
            "predicted: terrible\n",
            "label : you\n",
            "predicted: you\n",
            "label : on\n",
            "predicted: on\n",
            "label : or\n",
            "predicted: dropping\n",
            "label : no\n",
            "predicted: no\n",
            "label : bart\n",
            "predicted: bart\n",
            "label : down\n",
            "predicted: down\n",
            "label : poor\n",
            "predicted: the\n",
            "label : a\n",
            "predicted: the\n",
            "label : chief\n",
            "predicted: chief\n",
            "label : apple\n",
            "predicted: apple\n",
            "label : how\n",
            "predicted: that\n",
            "label : in\n",
            "predicted: that\n",
            "label : bailey\n",
            "predicted: bailey\n",
            "label : charleston\n",
            "predicted: charleston\n",
            "label : lord\n",
            "predicted: lord\n",
            "label : upper\n",
            "predicted: upper\n",
            "label : hey\n",
            "predicted: why\n",
            "label : for\n",
            "predicted: about\n",
            "label : a\n",
            "predicted: a\n",
            "label : howard\n",
            "predicted: howard\n",
            "label : that\n",
            "predicted: goin\n",
            "label : you\n",
            "predicted: the\n",
            "label : all\n",
            "predicted: twenty-four\n",
            "label : for\n",
            "predicted: to\n",
            "label : kid\n",
            "predicted: moe\n",
            "label : still\n",
            "predicted: still\n",
            "label : coffees\n",
            "predicted: coffees\n",
            "label : good\n",
            "predicted: what\n",
            "label : no\n",
            "predicted: the\n",
            "label : uh\n",
            "predicted: huh\n",
            "label : that\n",
            "predicted: that\n",
            "label : a\n",
            "predicted: of\n",
            "label : whatever\n",
            "predicted: i\n",
            "label : known\n",
            "predicted: known\n",
            "label : pig\n",
            "predicted: pig\n",
            "label : corn\n",
            "predicted: corn\n",
            "label : oh\n",
            "predicted: maybe\n",
            "label : thats\n",
            "predicted: the\n",
            "label : hes\n",
            "predicted: im\n",
            "label : out\n",
            "predicted: were\n",
            "label : if\n",
            "predicted: and\n",
            "label : on\n",
            "predicted: in\n",
            "label : join\n",
            "predicted: join\n",
            "label : lessons\n",
            "predicted: lessons\n",
            "label : a\n",
            "predicted: a\n",
            "label : me\n",
            "predicted: us\n",
            "label : well\n",
            "predicted: and\n",
            "label : hmm\n",
            "predicted: but\n",
            "label : for\n",
            "predicted: for\n",
            "label : imprisoned\n",
            "predicted: imprisoned\n",
            "label : blow\n",
            "predicted: blow\n",
            "label : that\n",
            "predicted: the\n",
            "label : i\n",
            "predicted: ill\n",
            "label : right\n",
            "predicted: theres\n",
            "label : never\n",
            "predicted: never\n",
            "label : should\n",
            "predicted: could\n",
            "label : not\n",
            "predicted: not\n",
            "label : mmm\n",
            "predicted: mmm\n",
            "label : the\n",
            "predicted: the\n",
            "label : i\n",
            "predicted: we\n",
            "label : the\n",
            "predicted: the\n",
            "label : children\n",
            "predicted: yeah\n",
            "label : trip\n",
            "predicted: not\n",
            "label : i\n",
            "predicted: i\n",
            "label : take\n",
            "predicted: destroy\n",
            "label : begin\n",
            "predicted: begin\n",
            "label : heres\n",
            "predicted: heres\n",
            "label : albuquerque\n",
            "predicted: albuquerque\n",
            "label : away\n",
            "predicted: when\n",
            "label : fine\n",
            "predicted: fine\n",
            "label : your\n",
            "predicted: that\n",
            "label : to\n",
            "predicted: from\n",
            "label : make\n",
            "predicted: make\n",
            "label : made\n",
            "predicted: get\n",
            "label : the\n",
            "predicted: the\n",
            "label : monty\n",
            "predicted: you\n",
            "label : have\n",
            "predicted: get\n",
            "label : of\n",
            "predicted: of\n",
            "label : i\n",
            "predicted: i\n",
            "label : lenny\n",
            "predicted: he\n",
            "label : but\n",
            "predicted: then\n",
            "label : on\n",
            "predicted: pretend\n",
            "label : and\n",
            "predicted: and\n",
            "label : i\n",
            "predicted: i\n",
            "label : ive\n",
            "predicted: are\n",
            "label : go\n",
            "predicted: go\n",
            "label : marge\n",
            "predicted: no\n",
            "label : a\n",
            "predicted: a\n",
            "label : and\n",
            "predicted: was\n",
            "label : i\n",
            "predicted: i\n",
            "label : with\n",
            "predicted: with\n",
            "label : mardi\n",
            "predicted: mardi\n",
            "label : till\n",
            "predicted: till\n",
            "label : drug\n",
            "predicted: drug\n",
            "label : a\n",
            "predicted: a\n",
            "label : of\n",
            "predicted: of\n",
            "label : spend\n",
            "predicted: the\n",
            "label : those\n",
            "predicted: that\n",
            "label : dad\n",
            "predicted: inside\n",
            "label : --\n",
            "predicted: youd\n",
            "label : your\n",
            "predicted: my\n",
            "label : ivana\n",
            "predicted: ivana\n",
            "label : challenging\n",
            "predicted: challenging\n",
            "label : wheres\n",
            "predicted: the\n",
            "label : what\n",
            "predicted: i\n",
            "label : email\n",
            "predicted: email\n",
            "label : feel\n",
            "predicted: feel\n",
            "label : everything\n",
            "predicted: what\n",
            "label : stay\n",
            "predicted: that\n",
            "label : wait\n",
            "predicted: wait\n",
            "label : you\n",
            "predicted: you\n",
            "label : cant\n",
            "predicted: cant\n",
            "label : could\n",
            "predicted: to\n",
            "label : of\n",
            "predicted: of\n",
            "label : hair\n",
            "predicted: tv\n",
            "label : me\n",
            "predicted: him\n",
            "label : telling\n",
            "predicted: telling\n",
            "label : grovel\n",
            "predicted: grovel\n",
            "label : thats\n",
            "predicted: yeah\n",
            "label : kids\n",
            "predicted: soul\n",
            "label : marge\n",
            "predicted: well\n",
            "label : hes\n",
            "predicted: ive\n",
            "label : fellow\n",
            "predicted: fellow\n",
            "label : wanna\n",
            "predicted: ive\n",
            "label : and\n",
            "predicted: has\n",
            "label : treat\n",
            "predicted: see\n",
            "label : i\n",
            "predicted: i\n",
            "label : but\n",
            "predicted: but\n",
            "label : obtained\n",
            "predicted: obtained\n",
            "label : to\n",
            "predicted: to\n",
            "label : dont\n",
            "predicted: i\n",
            "label : obey\n",
            "predicted: obey\n",
            "label : of\n",
            "predicted: of\n",
            "label : close\n",
            "predicted: soon\n",
            "label : now\n",
            "predicted: now\n",
            "label : im\n",
            "predicted: im\n",
            "label : shut\n",
            "predicted: shut\n",
            "label : you\n",
            "predicted: you\n",
            "label : from\n",
            "predicted: contest\n",
            "label : try\n",
            "predicted: try\n",
            "label : home\n",
            "predicted: home\n",
            "label : dont\n",
            "predicted: will\n",
            "label : is\n",
            "predicted: were\n",
            "label : worked\n",
            "predicted: worked\n",
            "label : joe\n",
            "predicted: joe\n",
            "label : a\n",
            "predicted: a\n",
            "label : tantrum\n",
            "predicted: tantrum\n",
            "label : humans\n",
            "predicted: me\n",
            "label : ive\n",
            "predicted: i\n",
            "label : a\n",
            "predicted: a\n",
            "label : to\n",
            "predicted: youve\n",
            "label : the\n",
            "predicted: to\n",
            "label : your\n",
            "predicted: our\n",
            "label : are\n",
            "predicted: are\n",
            "label : moms\n",
            "predicted: the\n",
            "label : me\n",
            "predicted: the\n",
            "label : i\n",
            "predicted: you\n",
            "label : fries\n",
            "predicted: fries\n",
            "label : to\n",
            "predicted: to\n",
            "label : dates\n",
            "predicted: dates\n",
            "label : google\n",
            "predicted: google\n",
            "label : left\n",
            "predicted: but\n",
            "label : native\n",
            "predicted: native\n",
            "label : most\n",
            "predicted: most\n",
            "label : fallen\n",
            "predicted: never\n",
            "label : to\n",
            "predicted: to\n",
            "label : was\n",
            "predicted: was\n",
            "label : the\n",
            "predicted: the\n",
            "label : in\n",
            "predicted: to\n",
            "label : follow\n",
            "predicted: follow\n",
            "label : tie\n",
            "predicted: tie\n",
            "label : say\n",
            "predicted: think\n",
            "label : track\n",
            "predicted: the\n",
            "label : never\n",
            "predicted: never\n",
            "label : showing\n",
            "predicted: showing\n",
            "label : theres\n",
            "predicted: theres\n",
            "label : good\n",
            "predicted: that\n",
            "label : have\n",
            "predicted: have\n",
            "label : that\n",
            "predicted: that\n",
            "label : healthy\n",
            "predicted: healthy\n",
            "label : and\n",
            "predicted: belong\n",
            "label : and\n",
            "predicted: and\n",
            "label : be\n",
            "predicted: be\n",
            "label : out\n",
            "predicted: out\n",
            "label : that\n",
            "predicted: that\n",
            "label : oh\n",
            "predicted: oooh\n",
            "label : side\n",
            "predicted: day\n",
            "label : someone\n",
            "predicted: that\n",
            "label : my\n",
            "predicted: our\n",
            "label : the\n",
            "predicted: the\n",
            "label : didnt\n",
            "predicted: shouldnt\n",
            "label : fit\n",
            "predicted: fit\n",
            "label : the\n",
            "predicted: the\n",
            "label : dad\n",
            "predicted: not\n",
            "label : i\n",
            "predicted: i\n",
            "label : and\n",
            "predicted: and\n",
            "label : answer\n",
            "predicted: answer\n",
            "label : lets\n",
            "predicted: and\n",
            "label : that\n",
            "predicted: he\n",
            "label : yah\n",
            "predicted: yah\n",
            "label : history\n",
            "predicted: history\n",
            "label : and\n",
            "predicted: person\n",
            "label : hey\n",
            "predicted: well\n",
            "label : ridicule\n",
            "predicted: ridicule\n",
            "label : it\n",
            "predicted: that\n",
            "label : training\n",
            "predicted: training\n",
            "label : mom\n",
            "predicted: and\n",
            "label : to\n",
            "predicted: to\n",
            "label : dogs\n",
            "predicted: dogs\n",
            "label : have\n",
            "predicted: have\n",
            "label : it\n",
            "predicted: it\n",
            "label : hear\n",
            "predicted: feel\n",
            "label : so\n",
            "predicted: flanders\n",
            "label : more\n",
            "predicted: more\n",
            "label : star\n",
            "predicted: star\n",
            "label : little\n",
            "predicted: flanders\n",
            "label : chimney\n",
            "predicted: chimney\n",
            "label : an\n",
            "predicted: the\n",
            "label : her\n",
            "predicted: a\n",
            "label : and\n",
            "predicted: my\n",
            "label : most\n",
            "predicted: the\n",
            "label : in\n",
            "predicted: in\n",
            "label : maam\n",
            "predicted: pictures\n",
            "label : well\n",
            "predicted: and\n",
            "label : i\n",
            "predicted: you\n",
            "label : with\n",
            "predicted: hes\n",
            "label : marge\n",
            "predicted: the\n",
            "label : a\n",
            "predicted: a\n",
            "label : you\n",
            "predicted: you\n",
            "label : watch\n",
            "predicted: watch\n",
            "label : will\n",
            "predicted: will\n",
            "label : you\n",
            "predicted: you\n",
            "label : well\n",
            "predicted: now\n",
            "label : emerged\n",
            "predicted: emerged\n",
            "label : that\n",
            "predicted: the\n",
            "label : edgar\n",
            "predicted: the\n",
            "label : the\n",
            "predicted: the\n",
            "label : simpson\n",
            "predicted: and\n",
            "label : marge\n",
            "predicted: but\n",
            "label : something\n",
            "predicted: and\n",
            "label : man\n",
            "predicted: father\n",
            "label : in\n",
            "predicted: the\n",
            "label : of\n",
            "predicted: of\n",
            "label : lucky\n",
            "predicted: much\n",
            "label : french\n",
            "predicted: a\n",
            "label : i\n",
            "predicted: i\n",
            "label : im\n",
            "predicted: im\n",
            "label : loved\n",
            "predicted: loved\n",
            "label : can\n",
            "predicted: would\n",
            "label : a\n",
            "predicted: a\n",
            "label : you\n",
            "predicted: you\n",
            "label : who\n",
            "predicted: who\n",
            "label : now\n",
            "predicted: well\n",
            "label : the\n",
            "predicted: the\n",
            "label : coffee\n",
            "predicted: coffee\n",
            "label : a\n",
            "predicted: a\n",
            "label : -\n",
            "predicted: that\n",
            "label : simmons\n",
            "predicted: simmons\n",
            "label : the\n",
            "predicted: the\n",
            "label : channels\n",
            "predicted: channels\n",
            "label : your\n",
            "predicted: your\n",
            "label : stamp\n",
            "predicted: stamp\n",
            "label : a\n",
            "predicted: a\n",
            "label : right\n",
            "predicted: back\n",
            "label : of\n",
            "predicted: of\n",
            "label : wife\n",
            "predicted: hand\n",
            "label : a\n",
            "predicted: the\n",
            "label : were\n",
            "predicted: were\n",
            "label : just\n",
            "predicted: just\n",
            "label : youre\n",
            "predicted: were\n",
            "label : tubby\n",
            "predicted: tubby\n",
            "label : ho\n",
            "predicted: ho\n",
            "label : happy\n",
            "predicted: happy\n",
            "label : anymore\n",
            "predicted: anymore\n",
            "label : time\n",
            "predicted: time\n",
            "label : a\n",
            "predicted: the\n",
            "label : that\n",
            "predicted: that\n",
            "label : your\n",
            "predicted: your\n",
            "label : to\n",
            "predicted: to\n",
            "label : one\n",
            "predicted: all\n",
            "label : win\n",
            "predicted: win\n",
            "label : parking\n",
            "predicted: parking\n",
            "label : old\n",
            "predicted: car\n",
            "label : your\n",
            "predicted: the\n",
            "label : voyage\n",
            "predicted: voyage\n",
            "label : seventeenth\n",
            "predicted: seventeenth\n",
            "label : a\n",
            "predicted: the\n",
            "label : a\n",
            "predicted: strong\n",
            "label : a\n",
            "predicted: x\n",
            "label : shapes\n",
            "predicted: shapes\n",
            "label : my\n",
            "predicted: my\n",
            "label : is\n",
            "predicted: is\n",
            "label : and\n",
            "predicted: and\n",
            "label : i\n",
            "predicted: i\n",
            "label : us\n",
            "predicted: that\n",
            "label : man\n",
            "predicted: you\n",
            "label : can\n",
            "predicted: can\n",
            "label : simpsons\n",
            "predicted: not\n",
            "label : right\n",
            "predicted: right\n",
            "label : was\n",
            "predicted: employees\n",
            "label : to\n",
            "predicted: to\n",
            "label : sick\n",
            "predicted: melon\n",
            "label : coating\n",
            "predicted: coating\n",
            "label : in\n",
            "predicted: gets\n",
            "label : i\n",
            "predicted: i\n",
            "label : whos\n",
            "predicted: hes\n",
            "label : raging\n",
            "predicted: conversation\n",
            "label : the\n",
            "predicted: the\n",
            "label : the\n",
            "predicted: the\n",
            "label : i\n",
            "predicted: i\n",
            "label : delicious\n",
            "predicted: delicious\n",
            "label : my\n",
            "predicted: course\n",
            "label : they\n",
            "predicted: ill\n",
            "label : simpson\n",
            "predicted: i\n",
            "label : thousands\n",
            "predicted: thousands\n",
            "label : at\n",
            "predicted: to\n",
            "label : theyre\n",
            "predicted: look\n",
            "label : is\n",
            "predicted: and\n",
            "label : oops\n",
            "predicted: i\n",
            "label : class\n",
            "predicted: did\n",
            "label : michigan\n",
            "predicted: michigan\n",
            "label : i\n",
            "predicted: i\n",
            "label : me\n",
            "predicted: her\n",
            "label : a\n",
            "predicted: a\n",
            "label : steal\n",
            "predicted: wear\n",
            "label : trucker\n",
            "predicted: trucker\n",
            "label : a\n",
            "predicted: the\n",
            "label : the\n",
            "predicted: the\n",
            "label : thing\n",
            "predicted: mr\n",
            "label : city\n",
            "predicted: city\n",
            "label : wash\n",
            "predicted: wash\n",
            "label : the\n",
            "predicted: the\n",
            "label : you\n",
            "predicted: you\n",
            "label : am\n",
            "predicted: am\n",
            "label : shaft\n",
            "predicted: shaft\n",
            "label : hold\n",
            "predicted: combination\n",
            "label : --\n",
            "predicted: but\n",
            "label : time\n",
            "predicted: time\n",
            "label : i\n",
            "predicted: i\n",
            "label : talking\n",
            "predicted: not\n",
            "label : reviews\n",
            "predicted: reviews\n",
            "label : ill\n",
            "predicted: ill\n",
            "label : youre\n",
            "predicted: all\n",
            "label : fridge\n",
            "predicted: fridge\n",
            "label : into\n",
            "predicted: to\n",
            "label : thaw\n",
            "predicted: thaw\n",
            "label : get\n",
            "predicted: get\n",
            "label : more\n",
            "predicted: more\n",
            "label : it\n",
            "predicted: weight\n",
            "label : hell\n",
            "predicted: do\n",
            "label : what\n",
            "predicted: if\n",
            "label : you\n",
            "predicted: you\n",
            "label : ah\n",
            "predicted: that\n",
            "label : dirty\n",
            "predicted: dirty\n",
            "label : mr\n",
            "predicted: mr\n",
            "label : i\n",
            "predicted: i\n",
            "label : so\n",
            "predicted: how\n",
            "label : the\n",
            "predicted: that\n",
            "label : mr\n",
            "predicted: mr\n",
            "label : now\n",
            "predicted: now\n",
            "label : my\n",
            "predicted: our\n",
            "label : sauce\n",
            "predicted: sauce\n",
            "label : mighty\n",
            "predicted: mighty\n",
            "label : her\n",
            "predicted: her\n",
            "label : er\n",
            "predicted: er\n",
            "label : ferris\n",
            "predicted: ferris\n",
            "label : got\n",
            "predicted: get\n",
            "label : and\n",
            "predicted: ralphie\n",
            "label : and\n",
            "predicted: thanks\n",
            "label : a\n",
            "predicted: a\n",
            "label : hanging\n",
            "predicted: hanging\n",
            "label : these\n",
            "predicted: these\n",
            "label : do\n",
            "predicted: see\n",
            "label : you\n",
            "predicted: you\n",
            "label : you\n",
            "predicted: look\n",
            "label : marge\n",
            "predicted: what\n",
            "label : meant\n",
            "predicted: meant\n",
            "label : oh\n",
            "predicted: wheres\n",
            "label : he\n",
            "predicted: i\n",
            "label : butthead\n",
            "predicted: butthead\n",
            "label : tongue\n",
            "predicted: tongue\n",
            "label : two\n",
            "predicted: the\n",
            "label : magazine\n",
            "predicted: soul\n",
            "label : to\n",
            "predicted: to\n",
            "label : to\n",
            "predicted: to\n",
            "label : my\n",
            "predicted: the\n",
            "label : in\n",
            "predicted: and\n",
            "label : ooh\n",
            "predicted: in\n",
            "label : next\n",
            "predicted: first\n",
            "label : mr\n",
            "predicted: mr\n",
            "label : the\n",
            "predicted: the\n",
            "label : me\n",
            "predicted: well\n",
            "label : flashback\n",
            "predicted: flashback\n",
            "label : this\n",
            "predicted: this\n",
            "label : drugs\n",
            "predicted: way\n",
            "label : so\n",
            "predicted: so\n",
            "label : maude\n",
            "predicted: him\n",
            "label : foods\n",
            "predicted: foods\n",
            "label : a\n",
            "predicted: a\n",
            "label : miracle\n",
            "predicted: and\n",
            "label : to\n",
            "predicted: to\n",
            "label : times\n",
            "predicted: times\n",
            "label : grand\n",
            "predicted: grand\n",
            "label : be\n",
            "predicted: be\n",
            "label : problems\n",
            "predicted: problems\n",
            "label : is\n",
            "predicted: about\n",
            "label : like\n",
            "predicted: like\n",
            "label : yeah\n",
            "predicted: twenty\n",
            "label : gonna\n",
            "predicted: gonna\n",
            "label : i\n",
            "predicted: i\n",
            "label : children\n",
            "predicted: bart\n",
            "label : it\n",
            "predicted: all\n",
            "label : what\n",
            "predicted: what\n",
            "label : cubic\n",
            "predicted: cubic\n",
            "label : to\n",
            "predicted: to\n",
            "label : minute\n",
            "predicted: minute\n",
            "label : we\n",
            "predicted: you\n",
            "label : congratulations\n",
            "predicted: congratulations\n",
            "label : show\n",
            "predicted: so\n",
            "label : works\n",
            "predicted: works\n",
            "label : lies\n",
            "predicted: only\n",
            "label : was\n",
            "predicted: was\n",
            "label : view\n",
            "predicted: view\n",
            "label : yes\n",
            "predicted: oh\n",
            "label : whos\n",
            "predicted: that\n",
            "label : own\n",
            "predicted: bar\n",
            "label : know\n",
            "predicted: have\n",
            "label : park\n",
            "predicted: tree\n",
            "label : writers\n",
            "predicted: that\n",
            "label : of\n",
            "predicted: of\n",
            "label : a\n",
            "predicted: the\n",
            "label : pull\n",
            "predicted: it\n",
            "label : pu\n",
            "predicted: pu\n",
            "label : of\n",
            "predicted: of\n",
            "label : on\n",
            "predicted: with\n",
            "label : kneel\n",
            "predicted: kneel\n",
            "label : chop\n",
            "predicted: chop\n",
            "label : and\n",
            "predicted: months\n",
            "label : chief\n",
            "predicted: now\n",
            "label : the\n",
            "predicted: the\n",
            "label : is\n",
            "predicted: steve\n",
            "label : a\n",
            "predicted: a\n",
            "label : baby\n",
            "predicted: baby\n",
            "label : rules\n",
            "predicted: rules\n",
            "label : a\n",
            "predicted: that\n",
            "label : and\n",
            "predicted: and\n",
            "label : kids\n",
            "predicted: was\n",
            "label : you\n",
            "predicted: you\n",
            "label : sound\n",
            "predicted: im\n",
            "label : to\n",
            "predicted: to\n",
            "label : my\n",
            "predicted: my\n",
            "label : troy\n",
            "predicted: troy\n",
            "label : even\n",
            "predicted: here\n",
            "label : worry\n",
            "predicted: worry\n",
            "label : a\n",
            "predicted: that\n",
            "label : beautiful\n",
            "predicted: gummy\n",
            "label : the\n",
            "predicted: the\n",
            "label : wait\n",
            "predicted: no\n",
            "label : monkeys\n",
            "predicted: monkeys\n",
            "label : a\n",
            "predicted: a\n",
            "label : on\n",
            "predicted: getting\n",
            "label : cause\n",
            "predicted: bart\n",
            "label : capsule\n",
            "predicted: capsule\n",
            "label : lot\n",
            "predicted: lot\n",
            "label : youre\n",
            "predicted: is\n",
            "label : today\n",
            "predicted: him\n",
            "label : simpson\n",
            "predicted: what\n",
            "label : boy\n",
            "predicted: once\n",
            "label : little\n",
            "predicted: little\n",
            "label : eat\n",
            "predicted: marry\n",
            "label : the\n",
            "predicted: the\n",
            "label : no\n",
            "predicted: computers\n",
            "label : flood\n",
            "predicted: flood\n",
            "label : bullies\n",
            "predicted: him\n",
            "label : now\n",
            "predicted: and\n",
            "label : was\n",
            "predicted: was\n",
            "label : should\n",
            "predicted: could\n",
            "label : dad\n",
            "predicted: dad\n",
            "label : hold\n",
            "predicted: come\n",
            "label : saddam\n",
            "predicted: saddam\n",
            "label : marshmallows\n",
            "predicted: marshmallows\n",
            "label : the\n",
            "predicted: the\n",
            "label : them\n",
            "predicted: them\n",
            "label : after\n",
            "predicted: to\n",
            "label : soul\n",
            "predicted: soul\n",
            "label : one\n",
            "predicted: one\n",
            "label : a\n",
            "predicted: just\n",
            "label : and\n",
            "predicted: more\n",
            "label : hello\n",
            "predicted: but\n",
            "label : theres\n",
            "predicted: thats\n",
            "label : i\n",
            "predicted: i\n",
            "label : here\n",
            "predicted: not\n",
            "label : to\n",
            "predicted: to\n",
            "label : bonestorm\n",
            "predicted: bonestorm\n",
            "label : never\n",
            "predicted: dont\n",
            "label : chief\n",
            "predicted: chief\n",
            "label : area\n",
            "predicted: area\n",
            "label : dont\n",
            "predicted: dont\n",
            "label : waters\n",
            "predicted: waters\n",
            "label : is\n",
            "predicted: im\n",
            "label : wed\n",
            "predicted: wed\n",
            "label : heh\n",
            "predicted: heh\n",
            "label : job\n",
            "predicted: picture\n",
            "label : back\n",
            "predicted: contest\n",
            "label : oh\n",
            "predicted: okay\n",
            "label : here\n",
            "predicted: here\n",
            "label : and\n",
            "predicted: of\n",
            "label : emergency\n",
            "predicted: emergency\n",
            "label : power\n",
            "predicted: air\n",
            "label : open\n",
            "predicted: hear\n",
            "label : sit\n",
            "predicted: sit\n",
            "label : how\n",
            "predicted: how\n",
            "label : to\n",
            "predicted: to\n",
            "label : out\n",
            "predicted: back\n",
            "label : and\n",
            "predicted: boy\n",
            "label : fails\n",
            "predicted: fails\n",
            "label : tell\n",
            "predicted: help\n",
            "label : smithers\n",
            "predicted: oh\n",
            "label : like\n",
            "predicted: like\n",
            "label : clean\n",
            "predicted: clean\n",
            "label : flushed\n",
            "predicted: flushed\n",
            "label : gets\n",
            "predicted: gets\n",
            "label : know\n",
            "predicted: all\n",
            "label : it\n",
            "predicted: the\n",
            "label : shark\n",
            "predicted: shark\n",
            "label : confession\n",
            "predicted: confession\n",
            "label : air\n",
            "predicted: air\n",
            "label : i\n",
            "predicted: i\n",
            "label : take\n",
            "predicted: get\n",
            "label : little\n",
            "predicted: little\n",
            "label : up\n",
            "predicted: annie\n",
            "label : just\n",
            "predicted: only\n",
            "label : be\n",
            "predicted: be\n",
            "label : expert\n",
            "predicted: expert\n",
            "label : been\n",
            "predicted: been\n",
            "label : with\n",
            "predicted: with\n",
            "label : principal\n",
            "predicted: principal\n",
            "label : with\n",
            "predicted: of\n",
            "label : trees\n",
            "predicted: trees\n",
            "label : punch\n",
            "predicted: left\n",
            "label : oh\n",
            "predicted: listen\n",
            "label : home\n",
            "predicted: and\n",
            "label : hey\n",
            "predicted: bart\n",
            "label : hell\n",
            "predicted: well\n",
            "label : a\n",
            "predicted: a\n",
            "label : tabitha\n",
            "predicted: tabitha\n",
            "label : ever\n",
            "predicted: happened\n",
            "label : last\n",
            "predicted: last\n",
            "label : you\n",
            "predicted: you\n",
            "label : row\n",
            "predicted: work\n",
            "label : and\n",
            "predicted: well\n",
            "label : friends\n",
            "predicted: money\n",
            "label : a\n",
            "predicted: a\n",
            "label : believe\n",
            "predicted: see\n",
            "label : little\n",
            "predicted: little\n",
            "label : my\n",
            "predicted: my\n",
            "label : and\n",
            "predicted: would\n",
            "label : that\n",
            "predicted: that\n",
            "label : well\n",
            "predicted: now\n",
            "label : shine\n",
            "predicted: shine\n",
            "label : had\n",
            "predicted: had\n",
            "label : over\n",
            "predicted: in\n",
            "label : interrupt\n",
            "predicted: interrupt\n",
            "label : is\n",
            "predicted: do\n",
            "label : thinks\n",
            "predicted: plow\n",
            "label : is\n",
            "predicted: got\n",
            "label : have\n",
            "predicted: try\n",
            "label : blue\n",
            "predicted: blue\n",
            "label : in\n",
            "predicted: in\n",
            "label : his\n",
            "predicted: the\n",
            "label : now\n",
            "predicted: if\n",
            "label : have\n",
            "predicted: i\n",
            "label : so\n",
            "predicted: so\n",
            "label : prepared\n",
            "predicted: prepared\n",
            "label : creams\n",
            "predicted: creams\n",
            "label : maude\n",
            "predicted: simpson\n",
            "label : you\n",
            "predicted: i\n",
            "label : dont\n",
            "predicted: hate\n",
            "label : but\n",
            "predicted: honey\n",
            "label : wouldnt\n",
            "predicted: wouldnt\n",
            "label : treacle\n",
            "predicted: treacle\n",
            "label : you\n",
            "predicted: the\n",
            "label : on\n",
            "predicted: on\n",
            "label : what\n",
            "predicted: what\n",
            "label : theyre\n",
            "predicted: youre\n",
            "label : i\n",
            "predicted: i\n",
            "label : impending\n",
            "predicted: impending\n",
            "label : heart\n",
            "predicted: there\n",
            "label : to\n",
            "predicted: to\n",
            "label : guitars\n",
            "predicted: guitars\n",
            "label : a\n",
            "predicted: the\n",
            "label : please\n",
            "predicted: look\n",
            "label : amazing\n",
            "predicted: real\n",
            "label : now\n",
            "predicted: david\n",
            "label : him\n",
            "predicted: the\n",
            "label : woman\n",
            "predicted: woman\n",
            "label : whoa\n",
            "predicted: maggie\n",
            "label : tom\n",
            "predicted: tom\n",
            "label : exercise\n",
            "predicted: exercise\n",
            "label : that\n",
            "predicted: that\n",
            "label : meaning\n",
            "predicted: meaning\n",
            "label : of\n",
            "predicted: of\n",
            "label : the\n",
            "predicted: the\n",
            "label : everybody\n",
            "predicted: everybody\n",
            "label : bowl\n",
            "predicted: the\n",
            "label : they\n",
            "predicted: you\n",
            "label : deep\n",
            "predicted: deep\n",
            "label : it\n",
            "predicted: chocolate\n",
            "label : santas\n",
            "predicted: santas\n",
            "label : delightful\n",
            "predicted: delightful\n",
            "label : kiddy\n",
            "predicted: kiddy\n",
            "label : animals\n",
            "predicted: but\n",
            "label : haw\n",
            "predicted: haw\n",
            "label : little\n",
            "predicted: looking\n",
            "label : of\n",
            "predicted: of\n",
            "label : with\n",
            "predicted: that\n",
            "label : this\n",
            "predicted: this\n",
            "label : in\n",
            "predicted: in\n",
            "label : im\n",
            "predicted: im\n",
            "label : it\n",
            "predicted: that\n",
            "label : better\n",
            "predicted: just\n",
            "label : riot\n",
            "predicted: riot\n",
            "label : me\n",
            "predicted: me\n",
            "label : created\n",
            "predicted: got\n",
            "label : and\n",
            "predicted: and\n",
            "label : my\n",
            "predicted: the\n",
            "label : here\n",
            "predicted: whether\n",
            "label : bless\n",
            "predicted: bless\n",
            "label : bart\n",
            "predicted: homer\n",
            "label : about\n",
            "predicted: about\n",
            "label : attack\n",
            "predicted: attack\n",
            "label : think\n",
            "predicted: think\n",
            "label : driver\n",
            "predicted: driver\n",
            "label : dinosaurs\n",
            "predicted: dinosaurs\n",
            "label : tradition\n",
            "predicted: tradition\n",
            "label : a\n",
            "predicted: a\n",
            "label : coming\n",
            "predicted: the\n",
            "label : hes\n",
            "predicted: theyre\n",
            "label : i\n",
            "predicted: i\n",
            "label : leftorium\n",
            "predicted: leftorium\n",
            "label : door\n",
            "predicted: champion\n",
            "label : im\n",
            "predicted: stop\n",
            "label : its\n",
            "predicted: way\n",
            "label : oh\n",
            "predicted: could\n",
            "label : bat\n",
            "predicted: bat\n",
            "label : flanders\n",
            "predicted: grandfather\n",
            "label : twist\n",
            "predicted: twist\n",
            "label : with\n",
            "predicted: impossible\n",
            "label : get\n",
            "predicted: the\n",
            "label : but\n",
            "predicted: objection\n",
            "label : sounds\n",
            "predicted: was\n",
            "label : of\n",
            "predicted: of\n",
            "label : to\n",
            "predicted: to\n",
            "label : stupidest\n",
            "predicted: stupidest\n",
            "label : since\n",
            "predicted: got\n",
            "label : staircase\n",
            "predicted: staircase\n",
            "label : past\n",
            "predicted: past\n",
            "label : for\n",
            "predicted: of\n",
            "label : over\n",
            "predicted: and\n",
            "label : kids\n",
            "predicted: other\n",
            "label : not\n",
            "predicted: never\n",
            "label : eternal\n",
            "predicted: the\n",
            "label : skipping\n",
            "predicted: skipping\n",
            "label : my\n",
            "predicted: my\n",
            "label : bart\n",
            "predicted: but\n",
            "label : have\n",
            "predicted: have\n",
            "label : mayor\n",
            "predicted: mayor\n",
            "label : em\n",
            "predicted: bread\n",
            "label : woo\n",
            "predicted: woo\n",
            "label : you\n",
            "predicted: that\n",
            "label : --\n",
            "predicted: man\n",
            "label : fever\n",
            "predicted: fever\n",
            "label : a\n",
            "predicted: a\n",
            "label : i\n",
            "predicted: he\n",
            "label : dont\n",
            "predicted: dont\n",
            "label : and\n",
            "predicted: no\n",
            "label : everyone\n",
            "predicted: the\n",
            "label : reviews\n",
            "predicted: reviews\n",
            "label : his\n",
            "predicted: his\n",
            "label : i\n",
            "predicted: i\n",
            "label : got\n",
            "predicted: got\n",
            "label : clown\n",
            "predicted: clown\n",
            "label : im\n",
            "predicted: im\n",
            "label : dive\n",
            "predicted: dive\n",
            "label : theyre\n",
            "predicted: theyre\n",
            "label : cougars\n",
            "predicted: cougars\n",
            "Accuracy: 53.2% (479/900)\n"
          ],
          "name": "stdout"
        }
      ]
    },
    {
      "cell_type": "code",
      "metadata": {
        "id": "MdiZDDrJbaVU",
        "colab_type": "code",
        "colab": {
          "base_uri": "https://localhost:8080/",
          "height": 282
        },
        "outputId": "80247ff6-8d39-470b-a8f7-2252a7c190ff"
      },
      "source": [
        "%matplotlib inline\n",
        "import matplotlib.pyplot as plt\n",
        "import numpy as np\n",
        "\n",
        "def showPlot(points, title):\n",
        "    plt.figure()\n",
        "    fig, ax = plt.subplots()\n",
        "    plt.plot(points)\n",
        "\n",
        "showPlot(losses, 'CBOW Losses')"
      ],
      "execution_count": null,
      "outputs": [
        {
          "output_type": "display_data",
          "data": {
            "text/plain": [
              "<Figure size 432x288 with 0 Axes>"
            ]
          },
          "metadata": {
            "tags": []
          }
        },
        {
          "output_type": "display_data",
          "data": {
            "image/png": "[encoded data removed]",
            "text/plain": [
              "<Figure size 432x288 with 1 Axes>"
            ]
          },
          "metadata": {
            "tags": [],
            "needs_background": "light"
          }
        }
      ]
    },
    {
      "cell_type": "markdown",
      "metadata": {
        "id": "xp8r6RJwipn9",
        "colab_type": "text"
      },
      "source": [
        "## 3. Визуаилизировать embeddings по самым частотным словам (top 1000)"
      ]
    },
    {
      "cell_type": "code",
      "metadata": {
        "id": "ECUc0eFEo6lO",
        "colab_type": "code",
        "colab": {}
      },
      "source": [
        "from gensim.models import Word2Vec\n",
        "from collections import Counter\n",
        "from sklearn.decomposition import PCA\n",
        "from pylab import rcParams\n",
        "rcParams['figure.figsize'] = 20,12"
      ],
      "execution_count": null,
      "outputs": []
    },
    {
      "cell_type": "code",
      "metadata": {
        "id": "1gEz0PtUhY9_",
        "colab_type": "code",
        "colab": {}
      },
      "source": [
        "phrases = simpsons['normalized_text'].to_list()"
      ],
      "execution_count": null,
      "outputs": []
    },
    {
      "cell_type": "code",
      "metadata": {
        "id": "uyrkK1Fkm9e7",
        "colab_type": "code",
        "colab": {}
      },
      "source": [
        "sentences = []\n",
        "for phrase in phrases:\n",
        "  phrase_words = [word for word in phrase.split() if word not in rare_words]\n",
        "  sentences.append(phrase_words)"
      ],
      "execution_count": null,
      "outputs": []
    },
    {
      "cell_type": "code",
      "metadata": {
        "id": "BeSVDV9Lnlz0",
        "colab_type": "code",
        "colab": {
          "base_uri": "https://localhost:8080/",
          "height": 85
        },
        "outputId": "bc2ac95b-b05c-479d-961a-dba2923b6996"
      },
      "source": [
        "sentences[:4]"
      ],
      "execution_count": null,
      "outputs": [
        {
          "output_type": "execute_result",
          "data": {
            "text/plain": [
              "[['ooo', 'careful', 'homer'],\n",
              " ['theres', 'no', 'time', 'to', 'be', 'careful'],\n",
              " ['were', 'late'],\n",
              " ['sorry', 'excuse', 'us', 'pardon', 'me']]"
            ]
          },
          "metadata": {
            "tags": []
          },
          "execution_count": 49
        }
      ]
    },
    {
      "cell_type": "code",
      "metadata": {
        "id": "K_4nSBY-ocqq",
        "colab_type": "code",
        "colab": {
          "base_uri": "https://localhost:8080/",
          "height": 428
        },
        "outputId": "69eac2a8-9b74-4ca7-ffc9-88e0754c7b20"
      },
      "source": [
        "# train model\n",
        "model = Word2Vec(sentences, min_count=2)\n",
        "# summarize the loaded model\n",
        "print(model)\n",
        "# summarize vocabulary\n",
        "words = list(model.wv.vocab)\n",
        "#print(words)\n",
        "# access vector for one word\n",
        "print(model['sentence'])\n",
        "# save model\n",
        "model.save('model.bin')\n",
        "# load model\n",
        "new_model = Word2Vec.load('model.bin')\n",
        "print(new_model)"
      ],
      "execution_count": null,
      "outputs": [
        {
          "output_type": "stream",
          "text": [
            "Word2Vec(vocab=23965, size=100, alpha=0.025)\n",
            "[ 0.19187653 -0.02780551 -0.08775675 -0.16496415  0.06572865 -0.05648259\n",
            "  0.16444778 -0.14157324  0.06952123  0.01580678  0.01965329 -0.22194262\n",
            " -0.10418399  0.19380827 -0.0355412  -0.10046209  0.01910257 -0.04601309\n",
            "  0.07138101  0.1752598  -0.14821567  0.02988209  0.15708616 -0.36030525\n",
            "  0.34302503  0.12628923 -0.04323106  0.25646648  0.09864267 -0.1967225\n",
            " -0.18954755  0.10338127  0.09273186  0.06088593 -0.0373153   0.06499185\n",
            " -0.06941667  0.1217277  -0.10246938 -0.00212437  0.07556888  0.20247239\n",
            " -0.0213081  -0.11104961 -0.22388676 -0.20077169  0.06680748  0.08143291\n",
            " -0.1917518  -0.06892356  0.09751672 -0.0497806  -0.35245878  0.22019395\n",
            "  0.17365663  0.1538738   0.18069005  0.11496758  0.20324141  0.01425936\n",
            " -0.19999446 -0.03324458 -0.05897698 -0.0016161   0.09843589 -0.02072638\n",
            "  0.2035541   0.11954489  0.07784925 -0.295598   -0.18942207 -0.15711853\n",
            "  0.07980965 -0.14992635 -0.41724545 -0.02201702 -0.00592475  0.18053617\n",
            " -0.23970474  0.06624556  0.17485626 -0.16712461  0.26417726 -0.0778591\n",
            " -0.03676982  0.03366584 -0.13315013  0.11284305 -0.11549313  0.00587327\n",
            "  0.10944254  0.11326617  0.12817627  0.04971038  0.03604874  0.43782613\n",
            "  0.2696433   0.09482279 -0.0698486  -0.02077484]\n"
          ],
          "name": "stdout"
        },
        {
          "output_type": "stream",
          "text": [
            "/usr/local/lib/python3.6/dist-packages/ipykernel_launcher.py:8: DeprecationWarning: Call to deprecated `__getitem__` (Method will be removed in 4.0.0, use self.wv.__getitem__() instead).\n",
            "  \n",
            "/usr/local/lib/python3.6/dist-packages/smart_open/smart_open_lib.py:253: UserWarning: This function is deprecated, use smart_open.open instead. See the migration notes for details: https://github.com/RaRe-Technologies/smart_open/blob/master/README.rst#migrating-to-the-new-open-function\n",
            "  'See the migration notes for details: %s' % _MIGRATION_NOTES_URL\n"
          ],
          "name": "stderr"
        },
        {
          "output_type": "stream",
          "text": [
            "Word2Vec(vocab=23965, size=100, alpha=0.025)\n"
          ],
          "name": "stdout"
        }
      ]
    },
    {
      "cell_type": "code",
      "metadata": {
        "id": "-UB3hLHawOBG",
        "colab_type": "code",
        "colab": {}
      },
      "source": [
        "def plot_most_common_word(df,model,rare_words,n = 100):\n",
        "  phrases = df['normalized_text'].to_list()\n",
        "  text = phrases_to_text(phrases)\n",
        "  querywords = text.split()\n",
        "  resultwords  = [word for word in querywords if word not in rare_words]\n",
        "  cntr = Counter(resultwords)\n",
        "  top_n = cntr.most_common(n)\n",
        "  most_common = []\n",
        "\n",
        "  for word,count in top_n:\n",
        "    most_common.append(word)\n",
        "  \n",
        "  X = model[most_common]\n",
        "\n",
        "  pca = PCA(n_components=2)\n",
        "  result = pca.fit_transform(X)\n",
        "  plt.scatter(result[:, 0], result[:, 1])\n",
        "  words = most_common\n",
        "  for i, word in enumerate(words):\n",
        "\t  plt.annotate(word, xy=(result[i, 0], result[i, 1]))\n",
        "  plt.show()"
      ],
      "execution_count": null,
      "outputs": []
    },
    {
      "cell_type": "code",
      "metadata": {
        "id": "No_JDtQYPc5R",
        "colab_type": "code",
        "colab": {}
      },
      "source": [
        "rcParams['figure.figsize'] = 16,10"
      ],
      "execution_count": null,
      "outputs": []
    },
    {
      "cell_type": "code",
      "metadata": {
        "id": "PJNwx3L5qwcX",
        "colab_type": "code",
        "colab": {
          "base_uri": "https://localhost:8080/",
          "height": 662
        },
        "outputId": "21f2bd07-04d6-4add-b5ba-1b913fe5638f"
      },
      "source": [
        "plot_most_common_word(simpsons,model,rare_words,n=150)"
      ],
      "execution_count": null,
      "outputs": [
        {
          "output_type": "stream",
          "text": [
            "Число удаленных цифр в тексте 10\n"
          ],
          "name": "stdout"
        },
        {
          "output_type": "stream",
          "text": [
            "/usr/local/lib/python3.6/dist-packages/ipykernel_launcher.py:13: DeprecationWarning: Call to deprecated `__getitem__` (Method will be removed in 4.0.0, use self.wv.__getitem__() instead).\n",
            "  del sys.path[0]\n"
          ],
          "name": "stderr"
        },
        {
          "output_type": "display_data",
          "data": {
            "image/png": "[encoded data removed]",
            "text/plain": [
              "<Figure size 1152x720 with 1 Axes>"
            ]
          },
          "metadata": {
            "tags": [],
            "needs_background": "light"
          }
        }
      ]
    },
    {
      "cell_type": "code",
      "metadata": {
        "id": "2w-RWIdfP1aX",
        "colab_type": "code",
        "colab": {
          "base_uri": "https://localhost:8080/",
          "height": 663
        },
        "outputId": "3aff5fed-11ba-439c-f20c-3b3eb6f903f8"
      },
      "source": [
        "plot_most_common_word(simpsons,model,rare_words,n=1000)"
      ],
      "execution_count": null,
      "outputs": [
        {
          "output_type": "stream",
          "text": [
            "Число удаленных цифр в тексте 10\n"
          ],
          "name": "stdout"
        },
        {
          "output_type": "stream",
          "text": [
            "/usr/local/lib/python3.6/dist-packages/ipykernel_launcher.py:13: DeprecationWarning: Call to deprecated `__getitem__` (Method will be removed in 4.0.0, use self.wv.__getitem__() instead).\n",
            "  del sys.path[0]\n"
          ],
          "name": "stderr"
        },
        {
          "output_type": "display_data",
          "data": {
            "image/png": "[encoded data removed]",
            "text/plain": [
              "<Figure size 1152x720 with 1 Axes>"
            ]
          },
          "metadata": {
            "tags": [],
            "needs_background": "light"
          }
        }
      ]
    },
    {
      "cell_type": "markdown",
      "metadata": {
        "id": "ksJEMhjKMGjy",
        "colab_type": "text"
      },
      "source": [
        "##4. Найти самые близкие слова для:\n",
        "  homer - marge + bart\n",
        "\n",
        "  bart - lisa + school\n",
        "  \n",
        "  marge - homer + home"
      ]
    },
    {
      "cell_type": "code",
      "metadata": {
        "id": "Diw8nVBVYvX2",
        "colab_type": "code",
        "colab": {
          "base_uri": "https://localhost:8080/",
          "height": 34
        },
        "outputId": "4f012ad1-5caf-4a75-bbac-96f31c1b5378"
      },
      "source": [
        "new_model"
      ],
      "execution_count": null,
      "outputs": [
        {
          "output_type": "execute_result",
          "data": {
            "text/plain": [
              "<gensim.models.word2vec.Word2Vec at 0x7f9a8a1a3668>"
            ]
          },
          "metadata": {
            "tags": []
          },
          "execution_count": 61
        }
      ]
    },
    {
      "cell_type": "code",
      "metadata": {
        "id": "h3fKA_-nLILt",
        "colab_type": "code",
        "colab": {
          "base_uri": "https://localhost:8080/",
          "height": 122
        },
        "outputId": "abfbd5f5-37d1-4d48-d7ba-453739f80cf5"
      },
      "source": [
        "# calculate: homer - marge + bart\n",
        "result = new_model.most_similar(positive=['homer', 'bart'], negative=['marge'], topn=5)\n",
        "print(result)"
      ],
      "execution_count": null,
      "outputs": [
        {
          "output_type": "stream",
          "text": [
            "[('lisa', 0.8024460077285767), ('grampa', 0.6647453308105469), ('milhouse', 0.6383002996444702), ('eliza', 0.6337747573852539), ('mrs', 0.624794602394104)]\n"
          ],
          "name": "stdout"
        },
        {
          "output_type": "stream",
          "text": [
            "/usr/local/lib/python3.6/dist-packages/ipykernel_launcher.py:1: DeprecationWarning: Call to deprecated `most_similar` (Method will be removed in 4.0.0, use self.wv.most_similar() instead).\n",
            "  \"\"\"Entry point for launching an IPython kernel.\n",
            "/usr/local/lib/python3.6/dist-packages/gensim/matutils.py:737: FutureWarning: Conversion of the second argument of issubdtype from `int` to `np.signedinteger` is deprecated. In future, it will be treated as `np.int64 == np.dtype(int).type`.\n",
            "  if np.issubdtype(vec.dtype, np.int):\n"
          ],
          "name": "stderr"
        }
      ]
    },
    {
      "cell_type": "code",
      "metadata": {
        "id": "9t8lVpowOwP0",
        "colab_type": "code",
        "colab": {
          "base_uri": "https://localhost:8080/",
          "height": 122
        },
        "outputId": "ddcdf7bc-0969-416f-e427-bc28c21cd042"
      },
      "source": [
        "# calculate: bart - lisa + school\n",
        "result = new_model.most_similar(positive=['school', 'bart'], negative=['lisa'], topn=5)\n",
        "print(result)"
      ],
      "execution_count": null,
      "outputs": [
        {
          "output_type": "stream",
          "text": [
            "[('church', 0.7474527955055237), ('house', 0.7182285785675049), ('game', 0.7153236269950867), ('store', 0.7109593152999878), ('bar', 0.6965290307998657)]\n"
          ],
          "name": "stdout"
        },
        {
          "output_type": "stream",
          "text": [
            "/usr/local/lib/python3.6/dist-packages/ipykernel_launcher.py:1: DeprecationWarning: Call to deprecated `most_similar` (Method will be removed in 4.0.0, use self.wv.most_similar() instead).\n",
            "  \"\"\"Entry point for launching an IPython kernel.\n",
            "/usr/local/lib/python3.6/dist-packages/gensim/matutils.py:737: FutureWarning: Conversion of the second argument of issubdtype from `int` to `np.signedinteger` is deprecated. In future, it will be treated as `np.int64 == np.dtype(int).type`.\n",
            "  if np.issubdtype(vec.dtype, np.int):\n"
          ],
          "name": "stderr"
        }
      ]
    },
    {
      "cell_type": "code",
      "metadata": {
        "id": "ydGFlj7uO6EN",
        "colab_type": "code",
        "colab": {
          "base_uri": "https://localhost:8080/",
          "height": 122
        },
        "outputId": "5ac4d265-88b9-4b32-b5e3-b93d11748a54"
      },
      "source": [
        "# calculate: marge - homer + home\n",
        "result = new_model.most_similar(positive=['marge', 'home'], negative=['homer'], topn=5)\n",
        "print(result)"
      ],
      "execution_count": null,
      "outputs": [
        {
          "output_type": "stream",
          "text": [
            "[('back', 0.7668092846870422), ('bed', 0.7292125225067139), ('sleep', 0.6890376806259155), ('dinner', 0.610815167427063), ('together', 0.6093399524688721)]\n"
          ],
          "name": "stdout"
        },
        {
          "output_type": "stream",
          "text": [
            "/usr/local/lib/python3.6/dist-packages/ipykernel_launcher.py:1: DeprecationWarning: Call to deprecated `most_similar` (Method will be removed in 4.0.0, use self.wv.most_similar() instead).\n",
            "  \"\"\"Entry point for launching an IPython kernel.\n",
            "/usr/local/lib/python3.6/dist-packages/gensim/matutils.py:737: FutureWarning: Conversion of the second argument of issubdtype from `int` to `np.signedinteger` is deprecated. In future, it will be treated as `np.int64 == np.dtype(int).type`.\n",
            "  if np.issubdtype(vec.dtype, np.int):\n"
          ],
          "name": "stderr"
        }
      ]
    },
    {
      "cell_type": "markdown",
      "metadata": {
        "id": "caCEpoX0RLfO",
        "colab_type": "text"
      },
      "source": [
        "## 5. Классификатор Bart/Lisa"
      ]
    },
    {
      "cell_type": "code",
      "metadata": {
        "id": "IQhwkmY_TTWA",
        "colab_type": "code",
        "colab": {}
      },
      "source": [
        "import math\n",
        "import numpy as np"
      ],
      "execution_count": null,
      "outputs": []
    },
    {
      "cell_type": "code",
      "metadata": {
        "id": "sisJlNp6RZgI",
        "colab_type": "code",
        "colab": {
          "base_uri": "https://localhost:8080/",
          "height": 34
        },
        "outputId": "dc38050f-6d0f-48b1-89d5-4583349d5ef6"
      },
      "source": [
        "new_model"
      ],
      "execution_count": null,
      "outputs": [
        {
          "output_type": "execute_result",
          "data": {
            "text/plain": [
              "<gensim.models.word2vec.Word2Vec at 0x7f9a8a1a3668>"
            ]
          },
          "metadata": {
            "tags": []
          },
          "execution_count": 65
        }
      ]
    },
    {
      "cell_type": "code",
      "metadata": {
        "id": "TLacXnD0RKW_",
        "colab_type": "code",
        "colab": {
          "base_uri": "https://localhost:8080/",
          "height": 428
        },
        "outputId": "a65f04fe-2918-4515-dee2-a4dfaf398ad1"
      },
      "source": [
        "model['marge']"
      ],
      "execution_count": null,
      "outputs": [
        {
          "output_type": "stream",
          "text": [
            "/usr/local/lib/python3.6/dist-packages/ipykernel_launcher.py:1: DeprecationWarning: Call to deprecated `__getitem__` (Method will be removed in 4.0.0, use self.wv.__getitem__() instead).\n",
            "  \"\"\"Entry point for launching an IPython kernel.\n"
          ],
          "name": "stderr"
        },
        {
          "output_type": "execute_result",
          "data": {
            "text/plain": [
              "array([ 0.46331134, -0.5492639 ,  0.07352135,  0.39987275,  0.48220545,\n",
              "        0.8756199 ,  0.67891943,  0.08464141,  0.82347584, -0.44032222,\n",
              "        0.20708351, -0.22382677,  0.3858224 ,  1.4110447 ,  0.69569343,\n",
              "       -0.6435458 , -0.6182126 ,  1.1868736 ,  0.04579272,  0.0525138 ,\n",
              "        0.31911603, -0.5570318 ,  0.8616589 ,  0.6018608 , -0.32873377,\n",
              "        1.4905604 , -0.02909339,  0.0828516 , -1.3264644 , -1.1121719 ,\n",
              "       -0.32704383,  0.68848443,  0.7794684 , -0.97439766,  1.0242205 ,\n",
              "        0.5190699 , -2.3618836 ,  0.7142125 , -0.83131886, -0.1712428 ,\n",
              "       -0.57103735,  0.3020218 , -0.5157668 ,  0.4845257 , -0.28919408,\n",
              "       -0.07948983, -0.66349286, -0.51929146, -0.37278992,  0.70481306,\n",
              "        0.8809485 ,  1.0066521 ,  0.5027569 ,  0.2653406 ,  0.36093548,\n",
              "        1.2086108 ,  0.40970728,  0.27956152,  1.6560714 , -0.46203995,\n",
              "       -1.1904888 ,  0.39672175,  0.1742324 , -0.18047456,  0.9143269 ,\n",
              "       -0.21935266, -0.8624584 ,  0.25460538,  0.47351575, -1.9147218 ,\n",
              "       -0.0714935 , -0.4861086 ,  0.68186915, -0.17525916, -0.23947892,\n",
              "        0.5982878 , -0.24049355,  0.39354488, -1.6515164 ,  1.1158808 ,\n",
              "       -0.9639244 ,  0.87169135,  0.73221207,  0.58243454,  0.5511405 ,\n",
              "       -0.3427875 ,  0.6137533 ,  0.5788938 , -0.56557673, -0.38330477,\n",
              "       -1.0155423 ,  0.84189445,  0.16782147,  0.26763302, -0.23921694,\n",
              "        0.91338235,  0.27399358, -0.68883175, -1.6178964 , -1.5137693 ],\n",
              "      dtype=float32)"
            ]
          },
          "metadata": {
            "tags": []
          },
          "execution_count": 67
        }
      ]
    },
    {
      "cell_type": "code",
      "metadata": {
        "id": "hA8r7zTdS7xJ",
        "colab_type": "code",
        "colab": {}
      },
      "source": [
        "def length(v):\n",
        "  return math.sqrt(np.dot(v, v))\n",
        "\n",
        "def cos_vectors(v1, v2):\n",
        "  return np.dot(v1,v2) / (length(v1) * length(v2))"
      ],
      "execution_count": null,
      "outputs": []
    },
    {
      "cell_type": "code",
      "metadata": {
        "id": "lzbwekTVTZc0",
        "colab_type": "code",
        "colab": {}
      },
      "source": [
        "def bart_lisa_classificator(word2classificate,model):\n",
        "  word_vector = model[word2classificate]\n",
        "  bart_vector = model['bart']\n",
        "  lisa_vector = model['lisa']\n",
        "  bart_cos = cos_vectors(bart_vector,word_vector)\n",
        "  lisa_cos = cos_vectors(lisa_vector,word_vector)\n",
        "  bart_cos = round(bart_cos,3)\n",
        "  lisa_cos = round(lisa_cos,3)\n",
        "  if bart_cos > lisa_cos:\n",
        "    print('This is Bart')\n",
        "  elif lisa_cos > bart_cos:\n",
        "    print('This is Lisa')\n",
        "  else:\n",
        "    print('The word  belongs both Bart and Lisa ')\n",
        "  print('COS  for Bart', bart_cos)\n",
        "  print('COS for Lisa', lisa_cos)\n",
        "  return"
      ],
      "execution_count": null,
      "outputs": []
    },
    {
      "cell_type": "code",
      "metadata": {
        "id": "9KzgotYjWhYs",
        "colab_type": "code",
        "colab": {
          "base_uri": "https://localhost:8080/",
          "height": 68
        },
        "outputId": "e3953dc3-a48e-491b-f16b-229923f086e2"
      },
      "source": [
        "bart_lisa_classificator('game',model)"
      ],
      "execution_count": null,
      "outputs": [
        {
          "output_type": "stream",
          "text": [
            "This is Bart\n",
            "COS  for Bart 0.405\n",
            "COS for Lisa 0.331\n"
          ],
          "name": "stdout"
        }
      ]
    },
    {
      "cell_type": "code",
      "metadata": {
        "id": "VP9sZOT-Wsn5",
        "colab_type": "code",
        "colab": {
          "base_uri": "https://localhost:8080/",
          "height": 68
        },
        "outputId": "dca23174-e144-4828-a614-0a69d31e5abf"
      },
      "source": [
        "bart_lisa_classificator('music',model)"
      ],
      "execution_count": null,
      "outputs": [
        {
          "output_type": "stream",
          "text": [
            "This is Lisa\n",
            "COS  for Bart 0.279\n",
            "COS for Lisa 0.29\n"
          ],
          "name": "stdout"
        }
      ]
    },
    {
      "cell_type": "code",
      "metadata": {
        "id": "dUGJd-c5fkMM",
        "colab_type": "code",
        "colab": {
          "base_uri": "https://localhost:8080/",
          "height": 68
        },
        "outputId": "480dae66-9587-4861-eead-7c480ed2eeb8"
      },
      "source": [
        "bart_lisa_classificator('jazz',model)"
      ],
      "execution_count": null,
      "outputs": [
        {
          "output_type": "stream",
          "text": [
            "This is Lisa\n",
            "COS  for Bart 0.145\n",
            "COS for Lisa 0.208\n"
          ],
          "name": "stdout"
        }
      ]
    }
  ]
}